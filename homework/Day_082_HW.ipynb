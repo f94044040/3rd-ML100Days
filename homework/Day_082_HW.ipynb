{
 "cells": [
  {
   "cell_type": "markdown",
   "metadata": {},
   "source": [
    "## Work\n",
    "1. 請比較使用不同層數以及不同 Dropout rate 對訓練的效果\n",
    "2. 將 optimizer 改成使用 Adam 並加上適當的 dropout rate 檢視結果"
   ]
  },
  {
   "cell_type": "code",
   "execution_count": 3,
   "metadata": {},
   "outputs": [],
   "source": [
    "import os\n",
    "import tensorflow.keras\n",
    "import itertools\n",
    "# Disable GPU\n",
    "os.environ[\"CUDA_VISIBLE_DEVICES\"] = \"0,1\""
   ]
  },
  {
   "cell_type": "code",
   "execution_count": 4,
   "metadata": {},
   "outputs": [],
   "source": [
    "train, test = tensorflow.keras.datasets.cifar10.load_data()"
   ]
  },
  {
   "cell_type": "code",
   "execution_count": 5,
   "metadata": {},
   "outputs": [],
   "source": [
    "## 資料前處理\n",
    "def preproc_x(x, flatten=True):\n",
    "    x = x / 255.\n",
    "    if flatten:\n",
    "        x = x.reshape((len(x), -1))\n",
    "    return x\n",
    "\n",
    "def preproc_y(y, num_classes=10):\n",
    "    if y.shape[-1] == 1:\n",
    "        y = tensorflow.keras.utils.to_categorical(y, num_classes)\n",
    "    return y    "
   ]
  },
  {
   "cell_type": "code",
   "execution_count": 6,
   "metadata": {},
   "outputs": [],
   "source": [
    "x_train, y_train = train\n",
    "x_test, y_test = test\n",
    "\n",
    "# Preproc the inputs\n",
    "x_train = preproc_x(x_train)\n",
    "x_test = preproc_x(x_test)\n",
    "\n",
    "# Preprc the outputs\n",
    "y_train = preproc_y(y_train)\n",
    "y_test = preproc_y(y_test)"
   ]
  },
  {
   "cell_type": "code",
   "execution_count": 7,
   "metadata": {},
   "outputs": [],
   "source": [
    "from tensorflow.keras.layers import Dropout\n",
    "\n",
    "\"\"\"\n",
    "建立神經網路，並加入 dropout layer\n",
    "\"\"\"\n",
    "def build_mlp(input_shape, output_units=10, num_neurons=[512, 256, 128], drp_ratio=0.2):\n",
    "    input_layer = tensorflow.keras.layers.Input(input_shape)\n",
    "    \n",
    "    for i, n_units in enumerate(num_neurons):\n",
    "        if i == 0:\n",
    "            x = tensorflow.keras.layers.Dense(units=n_units, \n",
    "                                   activation=\"relu\", \n",
    "                                   name=\"hidden_layer\"+str(i+1))(input_layer)\n",
    "            x = Dropout(drp_ratio)(x)\n",
    "        else:\n",
    "            x = tensorflow.keras.layers.Dense(units=n_units, \n",
    "                                   activation=\"relu\", \n",
    "                                   name=\"hidden_layer\"+str(i+1))(x)\n",
    "            x = Dropout(drp_ratio)(x)\n",
    "    \n",
    "    out = tensorflow.keras.layers.Dense(units=output_units, activation=\"softmax\", name=\"output\")(x)\n",
    "    \n",
    "    model = tensorflow.keras.models.Model(inputs=[input_layer], outputs=[out])\n",
    "    return model"
   ]
  },
  {
   "cell_type": "code",
   "execution_count": 8,
   "metadata": {},
   "outputs": [],
   "source": [
    "## 超參數設定\n",
    "LEARNING_RATE = 1e-3\n",
    "EPOCHS = 50\n",
    "BATCH_SIZE = 256\n",
    "MOMENTUM = 0.95\n",
    "Dropout_EXP = 0.25"
   ]
  },
  {
   "cell_type": "code",
   "execution_count": 9,
   "metadata": {
    "scrolled": true
   },
   "outputs": [
    {
     "name": "stdout",
     "output_type": "stream",
     "text": [
      "Model: \"model\"\n",
      "_________________________________________________________________\n",
      "Layer (type)                 Output Shape              Param #   \n",
      "=================================================================\n",
      "input_1 (InputLayer)         [(None, 3072)]            0         \n",
      "_________________________________________________________________\n",
      "hidden_layer1 (Dense)        (None, 512)               1573376   \n",
      "_________________________________________________________________\n",
      "dropout (Dropout)            (None, 512)               0         \n",
      "_________________________________________________________________\n",
      "hidden_layer2 (Dense)        (None, 256)               131328    \n",
      "_________________________________________________________________\n",
      "dropout_1 (Dropout)          (None, 256)               0         \n",
      "_________________________________________________________________\n",
      "hidden_layer3 (Dense)        (None, 128)               32896     \n",
      "_________________________________________________________________\n",
      "dropout_2 (Dropout)          (None, 128)               0         \n",
      "_________________________________________________________________\n",
      "output (Dense)               (None, 10)                1290      \n",
      "=================================================================\n",
      "Total params: 1,738,890\n",
      "Trainable params: 1,738,890\n",
      "Non-trainable params: 0\n",
      "_________________________________________________________________\n",
      "Train on 50000 samples, validate on 10000 samples\n",
      "Epoch 1/50\n",
      "50000/50000 [==============================] - 6s 119us/sample - loss: 2.1606 - accuracy: 0.1939 - val_loss: 1.9575 - val_accuracy: 0.3176\n",
      "Epoch 2/50\n",
      "50000/50000 [==============================] - 5s 100us/sample - loss: 1.9700 - accuracy: 0.2786 - val_loss: 1.8454 - val_accuracy: 0.3520\n",
      "Epoch 3/50\n",
      "50000/50000 [==============================] - 6s 110us/sample - loss: 1.8905 - accuracy: 0.3135 - val_loss: 1.7796 - val_accuracy: 0.3737\n",
      "Epoch 4/50\n",
      "50000/50000 [==============================] - 5s 98us/sample - loss: 1.8400 - accuracy: 0.3381 - val_loss: 1.7277 - val_accuracy: 0.3912\n",
      "Epoch 5/50\n",
      "50000/50000 [==============================] - 5s 93us/sample - loss: 1.7964 - accuracy: 0.3585 - val_loss: 1.6954 - val_accuracy: 0.4001\n",
      "Epoch 6/50\n",
      "50000/50000 [==============================] - 5s 96us/sample - loss: 1.7619 - accuracy: 0.3680 - val_loss: 1.6657 - val_accuracy: 0.4105\n",
      "Epoch 7/50\n",
      "50000/50000 [==============================] - 5s 103us/sample - loss: 1.7356 - accuracy: 0.3795 - val_loss: 1.6357 - val_accuracy: 0.4209\n",
      "Epoch 8/50\n",
      "50000/50000 [==============================] - 6s 111us/sample - loss: 1.7078 - accuracy: 0.3907 - val_loss: 1.6152 - val_accuracy: 0.4286\n",
      "Epoch 9/50\n",
      "50000/50000 [==============================] - 6s 114us/sample - loss: 1.6931 - accuracy: 0.3939 - val_loss: 1.5924 - val_accuracy: 0.4366\n",
      "Epoch 10/50\n",
      "50000/50000 [==============================] - 6s 125us/sample - loss: 1.6661 - accuracy: 0.4057 - val_loss: 1.5780 - val_accuracy: 0.4379\n",
      "Epoch 11/50\n",
      "50000/50000 [==============================] - 5s 106us/sample - loss: 1.6480 - accuracy: 0.4110 - val_loss: 1.5574 - val_accuracy: 0.4486\n",
      "Epoch 12/50\n",
      "50000/50000 [==============================] - 6s 113us/sample - loss: 1.6318 - accuracy: 0.4191 - val_loss: 1.5449 - val_accuracy: 0.4488\n",
      "Epoch 13/50\n",
      "50000/50000 [==============================] - 5s 105us/sample - loss: 1.6166 - accuracy: 0.4240 - val_loss: 1.5246 - val_accuracy: 0.4563\n",
      "Epoch 14/50\n",
      "50000/50000 [==============================] - 6s 121us/sample - loss: 1.5999 - accuracy: 0.4327 - val_loss: 1.5141 - val_accuracy: 0.4584\n",
      "Epoch 15/50\n",
      "50000/50000 [==============================] - 5s 105us/sample - loss: 1.5813 - accuracy: 0.4366 - val_loss: 1.5015 - val_accuracy: 0.4692\n",
      "Epoch 16/50\n",
      "50000/50000 [==============================] - 6s 112us/sample - loss: 1.5714 - accuracy: 0.4384 - val_loss: 1.4901 - val_accuracy: 0.4702\n",
      "Epoch 17/50\n",
      "50000/50000 [==============================] - 6s 111us/sample - loss: 1.5584 - accuracy: 0.4449 - val_loss: 1.4772 - val_accuracy: 0.4742\n",
      "Epoch 18/50\n",
      "50000/50000 [==============================] - 5s 107us/sample - loss: 1.5439 - accuracy: 0.4486 - val_loss: 1.4641 - val_accuracy: 0.4808\n",
      "Epoch 19/50\n",
      "50000/50000 [==============================] - 5s 104us/sample - loss: 1.5323 - accuracy: 0.4548 - val_loss: 1.4564 - val_accuracy: 0.4810\n",
      "Epoch 20/50\n",
      "50000/50000 [==============================] - 5s 107us/sample - loss: 1.5212 - accuracy: 0.4601 - val_loss: 1.4516 - val_accuracy: 0.4786\n",
      "Epoch 21/50\n",
      "50000/50000 [==============================] - 5s 105us/sample - loss: 1.5122 - accuracy: 0.4643 - val_loss: 1.4392 - val_accuracy: 0.4872\n",
      "Epoch 22/50\n",
      "50000/50000 [==============================] - 6s 111us/sample - loss: 1.4990 - accuracy: 0.4694 - val_loss: 1.4331 - val_accuracy: 0.4938\n",
      "Epoch 23/50\n",
      "50000/50000 [==============================] - 6s 124us/sample - loss: 1.4917 - accuracy: 0.4687 - val_loss: 1.4218 - val_accuracy: 0.4919\n",
      "Epoch 24/50\n",
      "50000/50000 [==============================] - 6s 119us/sample - loss: 1.4801 - accuracy: 0.4720 - val_loss: 1.4218 - val_accuracy: 0.4904\n",
      "Epoch 25/50\n",
      "50000/50000 [==============================] - 6s 117us/sample - loss: 1.4718 - accuracy: 0.4750 - val_loss: 1.4195 - val_accuracy: 0.4951\n",
      "Epoch 26/50\n",
      "50000/50000 [==============================] - 6s 125us/sample - loss: 1.4580 - accuracy: 0.4814 - val_loss: 1.4041 - val_accuracy: 0.4978\n",
      "Epoch 27/50\n",
      "50000/50000 [==============================] - 6s 121us/sample - loss: 1.4494 - accuracy: 0.4843 - val_loss: 1.4004 - val_accuracy: 0.4959\n",
      "Epoch 28/50\n",
      "50000/50000 [==============================] - 6s 127us/sample - loss: 1.4405 - accuracy: 0.4867 - val_loss: 1.3966 - val_accuracy: 0.5005\n",
      "Epoch 29/50\n",
      "50000/50000 [==============================] - 6s 117us/sample - loss: 1.4336 - accuracy: 0.4909 - val_loss: 1.3841 - val_accuracy: 0.5032\n",
      "Epoch 30/50\n",
      "50000/50000 [==============================] - 6s 118us/sample - loss: 1.4252 - accuracy: 0.4900 - val_loss: 1.3775 - val_accuracy: 0.5059\n",
      "Epoch 31/50\n",
      "50000/50000 [==============================] - 6s 119us/sample - loss: 1.4184 - accuracy: 0.4965 - val_loss: 1.3857 - val_accuracy: 0.5036\n",
      "Epoch 32/50\n",
      "50000/50000 [==============================] - 6s 118us/sample - loss: 1.4045 - accuracy: 0.5006 - val_loss: 1.3639 - val_accuracy: 0.5123\n",
      "Epoch 33/50\n",
      "50000/50000 [==============================] - 6s 119us/sample - loss: 1.3970 - accuracy: 0.5037 - val_loss: 1.3704 - val_accuracy: 0.5104\n",
      "Epoch 34/50\n",
      "50000/50000 [==============================] - 6s 118us/sample - loss: 1.3925 - accuracy: 0.5038 - val_loss: 1.3561 - val_accuracy: 0.5174\n",
      "Epoch 35/50\n",
      "50000/50000 [==============================] - 6s 125us/sample - loss: 1.3821 - accuracy: 0.5075 - val_loss: 1.3624 - val_accuracy: 0.5112\n",
      "Epoch 36/50\n",
      "50000/50000 [==============================] - 6s 112us/sample - loss: 1.3761 - accuracy: 0.5072 - val_loss: 1.3560 - val_accuracy: 0.5152\n",
      "Epoch 37/50\n",
      "50000/50000 [==============================] - 6s 117us/sample - loss: 1.3730 - accuracy: 0.5089 - val_loss: 1.3491 - val_accuracy: 0.5168\n",
      "Epoch 38/50\n",
      "50000/50000 [==============================] - 6s 121us/sample - loss: 1.3645 - accuracy: 0.5124 - val_loss: 1.3441 - val_accuracy: 0.5220\n",
      "Epoch 39/50\n",
      "50000/50000 [==============================] - 6s 120us/sample - loss: 1.3577 - accuracy: 0.5156 - val_loss: 1.3376 - val_accuracy: 0.5213\n",
      "Epoch 40/50\n",
      "50000/50000 [==============================] - 6s 120us/sample - loss: 1.3493 - accuracy: 0.5166 - val_loss: 1.3365 - val_accuracy: 0.5247\n",
      "Epoch 41/50\n",
      "50000/50000 [==============================] - 6s 113us/sample - loss: 1.3429 - accuracy: 0.5180 - val_loss: 1.3341 - val_accuracy: 0.5280\n",
      "Epoch 42/50\n",
      "50000/50000 [==============================] - 6s 121us/sample - loss: 1.3347 - accuracy: 0.5254 - val_loss: 1.3324 - val_accuracy: 0.5305\n",
      "Epoch 43/50\n",
      "50000/50000 [==============================] - 6s 125us/sample - loss: 1.3313 - accuracy: 0.5215 - val_loss: 1.3330 - val_accuracy: 0.5258\n",
      "Epoch 44/50\n",
      "50000/50000 [==============================] - 6s 117us/sample - loss: 1.3252 - accuracy: 0.5259 - val_loss: 1.3191 - val_accuracy: 0.5318\n",
      "Epoch 45/50\n"
     ]
    },
    {
     "name": "stdout",
     "output_type": "stream",
     "text": [
      "50000/50000 [==============================] - 6s 115us/sample - loss: 1.3169 - accuracy: 0.5289 - val_loss: 1.3213 - val_accuracy: 0.5295\n",
      "Epoch 46/50\n",
      "50000/50000 [==============================] - 6s 112us/sample - loss: 1.3114 - accuracy: 0.5339 - val_loss: 1.3138 - val_accuracy: 0.5321\n",
      "Epoch 47/50\n",
      "50000/50000 [==============================] - 6s 111us/sample - loss: 1.3054 - accuracy: 0.5337 - val_loss: 1.3098 - val_accuracy: 0.5317\n",
      "Epoch 48/50\n",
      "50000/50000 [==============================] - 6s 117us/sample - loss: 1.2990 - accuracy: 0.5364 - val_loss: 1.3136 - val_accuracy: 0.5321\n",
      "Epoch 49/50\n",
      "50000/50000 [==============================] - 6s 117us/sample - loss: 1.2922 - accuracy: 0.5379 - val_loss: 1.3106 - val_accuracy: 0.5344\n",
      "Epoch 50/50\n",
      "50000/50000 [==============================] - 6s 115us/sample - loss: 1.2872 - accuracy: 0.5400 - val_loss: 1.3110 - val_accuracy: 0.5331\n"
     ]
    },
    {
     "ename": "KeyError",
     "evalue": "'acc'",
     "output_type": "error",
     "traceback": [
      "\u001b[1;31m---------------------------------------------------------------------------\u001b[0m",
      "\u001b[1;31mKeyError\u001b[0m                                  Traceback (most recent call last)",
      "\u001b[1;32m<ipython-input-9-3612e91d5c4d>\u001b[0m in \u001b[0;36m<module>\u001b[1;34m\u001b[0m\n\u001b[0;32m     13\u001b[0m \u001b[0mtrain_loss\u001b[0m \u001b[1;33m=\u001b[0m \u001b[0mmodel\u001b[0m\u001b[1;33m.\u001b[0m\u001b[0mhistory\u001b[0m\u001b[1;33m.\u001b[0m\u001b[0mhistory\u001b[0m\u001b[1;33m[\u001b[0m\u001b[1;34m\"loss\"\u001b[0m\u001b[1;33m]\u001b[0m\u001b[1;33m\u001b[0m\u001b[1;33m\u001b[0m\u001b[0m\n\u001b[0;32m     14\u001b[0m \u001b[0mvalid_loss\u001b[0m \u001b[1;33m=\u001b[0m \u001b[0mmodel\u001b[0m\u001b[1;33m.\u001b[0m\u001b[0mhistory\u001b[0m\u001b[1;33m.\u001b[0m\u001b[0mhistory\u001b[0m\u001b[1;33m[\u001b[0m\u001b[1;34m\"val_loss\"\u001b[0m\u001b[1;33m]\u001b[0m\u001b[1;33m\u001b[0m\u001b[1;33m\u001b[0m\u001b[0m\n\u001b[1;32m---> 15\u001b[1;33m \u001b[0mtrain_acc\u001b[0m \u001b[1;33m=\u001b[0m \u001b[0mmodel\u001b[0m\u001b[1;33m.\u001b[0m\u001b[0mhistory\u001b[0m\u001b[1;33m.\u001b[0m\u001b[0mhistory\u001b[0m\u001b[1;33m[\u001b[0m\u001b[1;34m\"acc\"\u001b[0m\u001b[1;33m]\u001b[0m\u001b[1;33m\u001b[0m\u001b[1;33m\u001b[0m\u001b[0m\n\u001b[0m\u001b[0;32m     16\u001b[0m \u001b[0mvalid_acc\u001b[0m \u001b[1;33m=\u001b[0m \u001b[0mmodel\u001b[0m\u001b[1;33m.\u001b[0m\u001b[0mhistory\u001b[0m\u001b[1;33m.\u001b[0m\u001b[0mhistory\u001b[0m\u001b[1;33m[\u001b[0m\u001b[1;34m\"val_acc\"\u001b[0m\u001b[1;33m]\u001b[0m\u001b[1;33m\u001b[0m\u001b[1;33m\u001b[0m\u001b[0m\n",
      "\u001b[1;31mKeyError\u001b[0m: 'acc'"
     ]
    }
   ],
   "source": [
    "model = build_mlp(input_shape=x_train.shape[1:], drp_ratio=Dropout_EXP)\n",
    "model.summary()\n",
    "optimizer = tensorflow.keras.optimizers.SGD(lr=LEARNING_RATE, nesterov=True, momentum=MOMENTUM)\n",
    "model.compile(loss=\"categorical_crossentropy\", metrics=[\"accuracy\"], optimizer=optimizer)\n",
    "\n",
    "model.fit(x_train, y_train, \n",
    "          epochs=EPOCHS, \n",
    "          batch_size=BATCH_SIZE, \n",
    "          validation_data=(x_test, y_test), \n",
    "          shuffle=True)\n",
    "\n",
    "# Collect results\n",
    "train_loss = model.history.history[\"loss\"]\n",
    "valid_loss = model.history.history[\"val_loss\"]\n",
    "train_acc = model.history.history[\"accuracy\"]\n",
    "valid_acc = model.history.history[\"val_accuracy\"]"
   ]
  },
  {
   "cell_type": "code",
   "execution_count": 11,
   "metadata": {},
   "outputs": [],
   "source": [
    "# Collect results\n",
    "train_loss = model.history.history[\"loss\"]\n",
    "valid_loss = model.history.history[\"val_loss\"]\n",
    "train_acc = model.history.history[\"accuracy\"]\n",
    "valid_acc = model.history.history[\"val_accuracy\"]"
   ]
  },
  {
   "cell_type": "code",
   "execution_count": 12,
   "metadata": {},
   "outputs": [
    {
     "data": {
      "image/png": "[encoded data removed]",
      "text/plain": [
       "<Figure size 432x288 with 1 Axes>"
      ]
     },
     "metadata": {
      "needs_background": "light"
     },
     "output_type": "display_data"
    },
    {
     "data": {
      "image/png": "[encoded data removed]",
      "text/plain": [
       "<Figure size 432x288 with 1 Axes>"
      ]
     },
     "metadata": {
      "needs_background": "light"
     },
     "output_type": "display_data"
    }
   ],
   "source": [
    "import matplotlib.pyplot as plt\n",
    "%matplotlib inline\n",
    "\n",
    "plt.plot(range(len(train_loss)), train_loss, label=\"train loss\")\n",
    "plt.plot(range(len(valid_loss)), valid_loss, label=\"valid loss\")\n",
    "plt.legend()\n",
    "plt.title(\"Loss\")\n",
    "plt.show()\n",
    "\n",
    "plt.plot(range(len(train_acc)), train_acc, label=\"train accuracy\")\n",
    "plt.plot(range(len(valid_acc)), valid_acc, label=\"valid accuracy\")\n",
    "plt.legend()\n",
    "plt.title(\"Accuracy\")\n",
    "plt.show()"
   ]
  }
 ],
 "metadata": {
  "kernelspec": {
   "display_name": "Python 3",
   "language": "python",
   "name": "python3"
  },
  "language_info": {
   "codemirror_mode": {
    "name": "ipython",
    "version": 3
   },
   "file_extension": ".py",
   "mimetype": "text/x-python",
   "name": "python",
   "nbconvert_exporter": "python",
   "pygments_lexer": "ipython3",
   "version": "3.7.3"
  }
 },
 "nbformat": 4,
 "nbformat_minor": 2
}
