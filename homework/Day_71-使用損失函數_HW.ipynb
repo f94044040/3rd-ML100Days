{
 "cells": [
  {
   "cell_type": "markdown",
   "metadata": {
    "colab_type": "text",
    "id": "cj4tE8e8iUtO"
   },
   "source": [
    "#   \n",
    "\n",
    "# 作業目標:\n",
    "\n",
    "    1. 藉由固定的 dataset, 來驗證不同loss function\n",
    "    2. Dataset 的特性跟我們選用的loss function 對accrancy 的影響\n",
    "    \n",
    "    \n",
    "# 作業重點: \n",
    "    請分別選用 \"MSE\", \"binary _crossentropy\"\n",
    "    查看Train/test accurancy and loss rate\n",
    "    "
   ]
  },
  {
   "cell_type": "markdown",
   "metadata": {
    "colab_type": "text",
    "id": "R51J4KyyiUsL"
   },
   "source": [
    "# 導入必要的函數"
   ]
  },
  {
   "cell_type": "code",
   "execution_count": 1,
   "metadata": {
    "colab": {},
    "colab_type": "code",
    "id": "Qd68OQjciUsM"
   },
   "outputs": [],
   "source": [
    "from tensorflow.keras.datasets import cifar10\n",
    "import numpy as np\n",
    "np.random.seed(10)"
   ]
  },
  {
   "cell_type": "markdown",
   "metadata": {
    "colab_type": "text",
    "id": "GxKuzQLQiUsP"
   },
   "source": [
    "# 資料準備"
   ]
  },
  {
   "cell_type": "code",
   "execution_count": 2,
   "metadata": {
    "colab": {},
    "colab_type": "code",
    "id": "MIbFZdTCiUsQ"
   },
   "outputs": [],
   "source": [
    "#取得Keras Dataset\n",
    "(x_img_train,y_label_train),(x_img_test,y_label_test)=cifar10.load_data()"
   ]
  },
  {
   "cell_type": "code",
   "execution_count": 3,
   "metadata": {
    "colab": {},
    "colab_type": "code",
    "id": "J8CJVjNOiUsS"
   },
   "outputs": [
    {
     "name": "stdout",
     "output_type": "stream",
     "text": [
      "train data: images: (50000, 32, 32, 3)  labels: (50000, 1)\n",
      "test  data: images: (10000, 32, 32, 3)  labels: (10000, 1)\n"
     ]
    }
   ],
   "source": [
    "#確認 CIFAR10 Dataset 資料維度\n",
    "print(\"train data:\",'images:',x_img_train.shape,\n",
    "      \" labels:\",y_label_train.shape) \n",
    "print(\"test  data:\",'images:',x_img_test.shape ,\n",
    "      \" labels:\",y_label_test.shape) "
   ]
  },
  {
   "cell_type": "code",
   "execution_count": 4,
   "metadata": {
    "colab": {},
    "colab_type": "code",
    "id": "V3P6P4DXiUsV"
   },
   "outputs": [],
   "source": [
    "#資料正規化\n",
    "x_img_train_normalize = x_img_train.astype('float32') / 255.0\n",
    "x_img_test_normalize = x_img_test.astype('float32') / 255.0"
   ]
  },
  {
   "cell_type": "code",
   "execution_count": 7,
   "metadata": {
    "colab": {},
    "colab_type": "code",
    "id": "vsDyjKYliUsX"
   },
   "outputs": [
    {
     "data": {
      "text/plain": [
       "(10000, 10)"
      ]
     },
     "execution_count": 7,
     "metadata": {},
     "output_type": "execute_result"
    }
   ],
   "source": [
    "#針對Label 做 ONE HOT ENCODE\n",
    "from tensorflow.keras import utils\n",
    "y_label_train_OneHot = utils.to_categorical(y_label_train)\n",
    "y_label_test_OneHot = utils.to_categorical(y_label_test)\n",
    "y_label_test_OneHot.shape"
   ]
  },
  {
   "cell_type": "markdown",
   "metadata": {
    "colab_type": "text",
    "id": "RutW2OtgiUsZ"
   },
   "source": [
    "# 建立模型"
   ]
  },
  {
   "cell_type": "code",
   "execution_count": 8,
   "metadata": {
    "colab": {},
    "colab_type": "code",
    "id": "aHz592aXiUsa"
   },
   "outputs": [],
   "source": [
    "from tensorflow.keras.models import Sequential\n",
    "from tensorflow.keras.layers import Dense, Dropout, Activation, Flatten\n",
    "from tensorflow.keras.layers import Conv2D, MaxPooling2D, ZeroPadding2D"
   ]
  },
  {
   "cell_type": "code",
   "execution_count": 9,
   "metadata": {
    "colab": {},
    "colab_type": "code",
    "id": "hslqrIp0iUse"
   },
   "outputs": [],
   "source": [
    "model = Sequential()"
   ]
  },
  {
   "cell_type": "code",
   "execution_count": 8,
   "metadata": {
    "colab": {},
    "colab_type": "code",
    "id": "Hqe35hs2iUsi"
   },
   "outputs": [],
   "source": [
    "#卷積層1"
   ]
  },
  {
   "cell_type": "code",
   "execution_count": 10,
   "metadata": {
    "colab": {},
    "colab_type": "code",
    "id": "ED7dqe1YiUsm"
   },
   "outputs": [],
   "source": [
    "model.add(Conv2D(filters=32,kernel_size=(3,3),\n",
    "                 input_shape=(32, 32,3), \n",
    "                 activation='relu', \n",
    "                 padding='same'))"
   ]
  },
  {
   "cell_type": "code",
   "execution_count": 11,
   "metadata": {
    "colab": {},
    "colab_type": "code",
    "id": "n-GRKmPViUso"
   },
   "outputs": [],
   "source": [
    "model.add(Dropout(rate=0.25))"
   ]
  },
  {
   "cell_type": "code",
   "execution_count": 12,
   "metadata": {
    "colab": {},
    "colab_type": "code",
    "id": "GlWnnD1uiUsw"
   },
   "outputs": [],
   "source": [
    "model.add(MaxPooling2D(pool_size=(2, 2)))"
   ]
  },
  {
   "cell_type": "code",
   "execution_count": 13,
   "metadata": {
    "colab": {},
    "colab_type": "code",
    "id": "nawlkt55iUsy"
   },
   "outputs": [],
   "source": [
    "#卷積層2與池化層2"
   ]
  },
  {
   "cell_type": "code",
   "execution_count": 14,
   "metadata": {
    "colab": {},
    "colab_type": "code",
    "id": "xxyETiKNiUs1"
   },
   "outputs": [],
   "source": [
    "model.add(Conv2D(filters=64, kernel_size=(3, 3), \n",
    "                 activation='relu', padding='same'))"
   ]
  },
  {
   "cell_type": "code",
   "execution_count": 15,
   "metadata": {
    "colab": {},
    "colab_type": "code",
    "id": "RqcKWtqGiUs2"
   },
   "outputs": [],
   "source": [
    "model.add(Dropout(0.25))"
   ]
  },
  {
   "cell_type": "code",
   "execution_count": 16,
   "metadata": {
    "colab": {},
    "colab_type": "code",
    "id": "BUOOzlqfiUs4"
   },
   "outputs": [],
   "source": [
    "model.add(MaxPooling2D(pool_size=(2, 2)))"
   ]
  },
  {
   "cell_type": "code",
   "execution_count": 17,
   "metadata": {
    "colab": {},
    "colab_type": "code",
    "id": "LpkppB2siUs7"
   },
   "outputs": [],
   "source": [
    "#建立神經網路(平坦層、隱藏層、輸出層)"
   ]
  },
  {
   "cell_type": "code",
   "execution_count": 18,
   "metadata": {
    "colab": {},
    "colab_type": "code",
    "id": "UQOfU54_iUs_"
   },
   "outputs": [],
   "source": [
    "model.add(Flatten())\n",
    "model.add(Dropout(rate=0.25))"
   ]
  },
  {
   "cell_type": "code",
   "execution_count": 19,
   "metadata": {
    "colab": {},
    "colab_type": "code",
    "id": "_NV-8sq4iUtD"
   },
   "outputs": [],
   "source": [
    "model.add(Dense(1024, activation='relu'))\n",
    "model.add(Dropout(rate=0.25))"
   ]
  },
  {
   "cell_type": "code",
   "execution_count": 20,
   "metadata": {
    "colab": {},
    "colab_type": "code",
    "id": "qVK77krOiUtF"
   },
   "outputs": [],
   "source": [
    "model.add(Dense(10, activation='softmax'))"
   ]
  },
  {
   "cell_type": "code",
   "execution_count": 21,
   "metadata": {
    "colab": {},
    "colab_type": "code",
    "id": "ZxzRIjR0iUtH"
   },
   "outputs": [
    {
     "name": "stdout",
     "output_type": "stream",
     "text": [
      "Model: \"sequential\"\n",
      "_________________________________________________________________\n",
      "Layer (type)                 Output Shape              Param #   \n",
      "=================================================================\n",
      "conv2d (Conv2D)              (None, 32, 32, 32)        896       \n",
      "_________________________________________________________________\n",
      "dropout (Dropout)            (None, 32, 32, 32)        0         \n",
      "_________________________________________________________________\n",
      "max_pooling2d (MaxPooling2D) (None, 16, 16, 32)        0         \n",
      "_________________________________________________________________\n",
      "conv2d_1 (Conv2D)            (None, 16, 16, 64)        18496     \n",
      "_________________________________________________________________\n",
      "dropout_1 (Dropout)          (None, 16, 16, 64)        0         \n",
      "_________________________________________________________________\n",
      "max_pooling2d_1 (MaxPooling2 (None, 8, 8, 64)          0         \n",
      "_________________________________________________________________\n",
      "flatten (Flatten)            (None, 4096)              0         \n",
      "_________________________________________________________________\n",
      "dropout_2 (Dropout)          (None, 4096)              0         \n",
      "_________________________________________________________________\n",
      "dense (Dense)                (None, 1024)              4195328   \n",
      "_________________________________________________________________\n",
      "dropout_3 (Dropout)          (None, 1024)              0         \n",
      "_________________________________________________________________\n",
      "dense_1 (Dense)              (None, 10)                10250     \n",
      "=================================================================\n",
      "Total params: 4,224,970\n",
      "Trainable params: 4,224,970\n",
      "Non-trainable params: 0\n",
      "_________________________________________________________________\n",
      "None\n"
     ]
    }
   ],
   "source": [
    "#檢查model 的STACK\n",
    "print(model.summary())"
   ]
  },
  {
   "cell_type": "markdown",
   "metadata": {
    "colab_type": "text",
    "id": "QJCtpJM0iUtJ"
   },
   "source": [
    "# 載入之前訓練的模型"
   ]
  },
  {
   "cell_type": "code",
   "execution_count": 22,
   "metadata": {
    "colab": {},
    "colab_type": "code",
    "id": "JU3A6NzQiUtK"
   },
   "outputs": [
    {
     "name": "stdout",
     "output_type": "stream",
     "text": [
      "載入模型失敗!開始訓練一個新模型\n"
     ]
    }
   ],
   "source": [
    "try:\n",
    "    model.load_weights(\"SaveModel/cifarCnnModel.h5\")\n",
    "    print(\"載入模型成功!繼續訓練模型\")\n",
    "except :    \n",
    "    print(\"載入模型失敗!開始訓練一個新模型\")"
   ]
  },
  {
   "cell_type": "markdown",
   "metadata": {
    "colab_type": "text",
    "id": "qBbCuziziUtM"
   },
   "source": [
    "# 訓練模型"
   ]
  },
  {
   "cell_type": "code",
   "execution_count": 23,
   "metadata": {
    "colab": {},
    "colab_type": "code",
    "id": "Q6BiBcseiUtP"
   },
   "outputs": [
    {
     "name": "stdout",
     "output_type": "stream",
     "text": [
      "Train on 37500 samples, validate on 12500 samples\n",
      "Epoch 1/12\n",
      "37500/37500 [==============================] - 53s 1ms/sample - loss: 2.1505 - accuracy: 0.2054 - val_loss: 2.0385 - val_accuracy: 0.3006\n",
      "Epoch 2/12\n",
      "37500/37500 [==============================] - 56s 2ms/sample - loss: 1.9411 - accuracy: 0.3022 - val_loss: 1.9361 - val_accuracy: 0.3537\n",
      "Epoch 3/12\n",
      "37500/37500 [==============================] - 60s 2ms/sample - loss: 1.8213 - accuracy: 0.3524 - val_loss: 1.8217 - val_accuracy: 0.3998\n",
      "Epoch 4/12\n",
      "37500/37500 [==============================] - 61s 2ms/sample - loss: 1.7185 - accuracy: 0.3852 - val_loss: 1.7450 - val_accuracy: 0.4189\n",
      "Epoch 5/12\n",
      "37500/37500 [==============================] - 60s 2ms/sample - loss: 1.6453 - accuracy: 0.4099 - val_loss: 1.6733 - val_accuracy: 0.4464\n",
      "Epoch 6/12\n",
      "37500/37500 [==============================] - 66s 2ms/sample - loss: 1.5932 - accuracy: 0.4315 - val_loss: 1.6456 - val_accuracy: 0.4497\n",
      "Epoch 7/12\n",
      "37500/37500 [==============================] - 73s 2ms/sample - loss: 1.5442 - accuracy: 0.4455 - val_loss: 1.5890 - val_accuracy: 0.4747\n",
      "Epoch 8/12\n",
      "37500/37500 [==============================] - 65s 2ms/sample - loss: 1.5127 - accuracy: 0.4573 - val_loss: 1.5790 - val_accuracy: 0.4658\n",
      "Epoch 9/12\n",
      "37500/37500 [==============================] - 62s 2ms/sample - loss: 1.4801 - accuracy: 0.4690 - val_loss: 1.5281 - val_accuracy: 0.4877\n",
      "Epoch 10/12\n",
      "37500/37500 [==============================] - 60s 2ms/sample - loss: 1.4538 - accuracy: 0.4789 - val_loss: 1.5142 - val_accuracy: 0.4939\n",
      "Epoch 11/12\n",
      "37500/37500 [==============================] - 61s 2ms/sample - loss: 1.4172 - accuracy: 0.4945 - val_loss: 1.4801 - val_accuracy: 0.5210\n",
      "Epoch 12/12\n",
      "37500/37500 [==============================] - 66s 2ms/sample - loss: 1.3936 - accuracy: 0.5011 - val_loss: 1.4485 - val_accuracy: 0.5263\n"
     ]
    }
   ],
   "source": [
    "model.compile(loss='categorical_crossentropy', optimizer='sgd', metrics=['accuracy'])\n",
    "\n",
    "train_history=model.fit(x_img_train_normalize, y_label_train_OneHot,\n",
    "                        validation_split=0.25,\n",
    "                        epochs=12, batch_size=128, verbose=1)      "
   ]
  },
  {
   "cell_type": "code",
   "execution_count": 26,
   "metadata": {
    "colab": {},
    "colab_type": "code",
    "id": "4-GdDgmQiUtS"
   },
   "outputs": [
    {
     "data": {
      "image/png": "[encoded data removed]",
      "text/plain": [
       "<Figure size 432x288 with 1 Axes>"
      ]
     },
     "metadata": {
      "needs_background": "light"
     },
     "output_type": "display_data"
    },
    {
     "data": {
      "image/png": "[encoded data removed]",
      "text/plain": [
       "<Figure size 432x288 with 1 Axes>"
      ]
     },
     "metadata": {
      "needs_background": "light"
     },
     "output_type": "display_data"
    }
   ],
   "source": [
    "import matplotlib.pyplot as plt\n",
    "%matplotlib inline\n",
    "\n",
    "#定義一個繪圖函數\n",
    "def show_train_history(train_acc,test_acc):\n",
    "    plt.plot(train_history.history[train_acc])\n",
    "    plt.plot(train_history.history[test_acc])\n",
    "    plt.title('Train History')\n",
    "    plt.ylabel('Accuracy')\n",
    "    plt.xlabel('Epoch')\n",
    "    plt.legend(['train_acc', 'val_acc'], loc='upper left')\n",
    "    plt.show()\n",
    "\n",
    "show_train_history('accuracy','val_accuracy')\n",
    "show_train_history('loss','val_loss')"
   ]
  },
  {
   "cell_type": "code",
   "execution_count": 27,
   "metadata": {},
   "outputs": [
    {
     "name": "stdout",
     "output_type": "stream",
     "text": [
      "Train on 37500 samples, validate on 12500 samples\n",
      "Epoch 1/12\n",
      "37500/37500 [==============================] - 63s 2ms/sample - loss: 0.0624 - accuracy: 0.5165 - val_loss: 0.0649 - val_accuracy: 0.5303\n",
      "Epoch 2/12\n",
      "37500/37500 [==============================] - 59s 2ms/sample - loss: 0.0622 - accuracy: 0.5158 - val_loss: 0.0648 - val_accuracy: 0.5311\n",
      "Epoch 3/12\n",
      "37500/37500 [==============================] - 64s 2ms/sample - loss: 0.0622 - accuracy: 0.5157 - val_loss: 0.0646 - val_accuracy: 0.5315\n",
      "Epoch 4/12\n",
      "37500/37500 [==============================] - 61s 2ms/sample - loss: 0.0622 - accuracy: 0.5170 - val_loss: 0.0646 - val_accuracy: 0.5315\n",
      "Epoch 5/12\n",
      "37500/37500 [==============================] - 63s 2ms/sample - loss: 0.0621 - accuracy: 0.5163 - val_loss: 0.0644 - val_accuracy: 0.5331\n",
      "Epoch 6/12\n",
      "37500/37500 [==============================] - 59s 2ms/sample - loss: 0.0620 - accuracy: 0.5185 - val_loss: 0.0644 - val_accuracy: 0.5324\n",
      "Epoch 7/12\n",
      "37500/37500 [==============================] - 59s 2ms/sample - loss: 0.0618 - accuracy: 0.5199 - val_loss: 0.0643 - val_accuracy: 0.5330\n",
      "Epoch 8/12\n",
      "37500/37500 [==============================] - 59s 2ms/sample - loss: 0.0618 - accuracy: 0.5208 - val_loss: 0.0642 - val_accuracy: 0.5334\n",
      "Epoch 9/12\n",
      "37500/37500 [==============================] - 59s 2ms/sample - loss: 0.0619 - accuracy: 0.5188 - val_loss: 0.0642 - val_accuracy: 0.5358\n",
      "Epoch 10/12\n",
      "37500/37500 [==============================] - 62s 2ms/sample - loss: 0.0619 - accuracy: 0.5193 - val_loss: 0.0642 - val_accuracy: 0.5365\n",
      "Epoch 11/12\n",
      "37500/37500 [==============================] - 61s 2ms/sample - loss: 0.0618 - accuracy: 0.5196 - val_loss: 0.0642 - val_accuracy: 0.5346\n",
      "Epoch 12/12\n",
      "37500/37500 [==============================] - 61s 2ms/sample - loss: 0.0617 - accuracy: 0.5211 - val_loss: 0.0641 - val_accuracy: 0.5356\n"
     ]
    }
   ],
   "source": [
    "model.compile(loss='MSE', optimizer='sgd', metrics=['accuracy'])\n",
    "\n",
    "train_history=model.fit(x_img_train_normalize, y_label_train_OneHot,\n",
    "                        validation_split=0.25,\n",
    "                        epochs=12, batch_size=128, verbose=1)      "
   ]
  },
  {
   "cell_type": "code",
   "execution_count": 29,
   "metadata": {},
   "outputs": [
    {
     "data": {
      "image/png": "[encoded data removed]",
      "text/plain": [
       "<Figure size 432x288 with 1 Axes>"
      ]
     },
     "metadata": {
      "needs_background": "light"
     },
     "output_type": "display_data"
    },
    {
     "data": {
      "image/png": "[encoded data removed]",
      "text/plain": [
       "<Figure size 432x288 with 1 Axes>"
      ]
     },
     "metadata": {
      "needs_background": "light"
     },
     "output_type": "display_data"
    }
   ],
   "source": [
    "show_train_history('accuracy','val_accuracy')\n",
    "show_train_history('loss','val_loss')"
   ]
  },
  {
   "cell_type": "code",
   "execution_count": 30,
   "metadata": {},
   "outputs": [
    {
     "name": "stdout",
     "output_type": "stream",
     "text": [
      "Train on 37500 samples, validate on 12500 samples\n",
      "Epoch 1/12\n",
      "37500/37500 [==============================] - 52s 1ms/sample - loss: 0.2090 - accuracy: 0.9183 - val_loss: 0.2183 - val_accuracy: 0.9126\n",
      "Epoch 2/12\n",
      "37500/37500 [==============================] - 61s 2ms/sample - loss: 0.2086 - accuracy: 0.9180 - val_loss: 0.2177 - val_accuracy: 0.9125\n",
      "Epoch 3/12\n",
      "37500/37500 [==============================] - 65s 2ms/sample - loss: 0.2080 - accuracy: 0.9184 - val_loss: 0.2171 - val_accuracy: 0.9133\n",
      "Epoch 4/12\n",
      "37500/37500 [==============================] - 61s 2ms/sample - loss: 0.2072 - accuracy: 0.9187 - val_loss: 0.2172 - val_accuracy: 0.9130\n",
      "Epoch 5/12\n",
      "37500/37500 [==============================] - 59s 2ms/sample - loss: 0.2069 - accuracy: 0.9190 - val_loss: 0.2175 - val_accuracy: 0.9127\n",
      "Epoch 6/12\n",
      "37500/37500 [==============================] - 60s 2ms/sample - loss: 0.2066 - accuracy: 0.9192 - val_loss: 0.2161 - val_accuracy: 0.9134\n",
      "Epoch 7/12\n",
      "37500/37500 [==============================] - 63s 2ms/sample - loss: 0.2060 - accuracy: 0.9192 - val_loss: 0.2154 - val_accuracy: 0.9139\n",
      "Epoch 8/12\n",
      "37500/37500 [==============================] - 61s 2ms/sample - loss: 0.2056 - accuracy: 0.9190 - val_loss: 0.2154 - val_accuracy: 0.9137\n",
      "Epoch 9/12\n",
      "37500/37500 [==============================] - 64s 2ms/sample - loss: 0.2048 - accuracy: 0.9198 - val_loss: 0.2146 - val_accuracy: 0.9142\n",
      "Epoch 10/12\n",
      "37500/37500 [==============================] - 65s 2ms/sample - loss: 0.2048 - accuracy: 0.9195 - val_loss: 0.2140 - val_accuracy: 0.9143\n",
      "Epoch 11/12\n",
      "37500/37500 [==============================] - 64s 2ms/sample - loss: 0.2044 - accuracy: 0.9198 - val_loss: 0.2135 - val_accuracy: 0.9147\n",
      "Epoch 12/12\n",
      "37500/37500 [==============================] - 62s 2ms/sample - loss: 0.2034 - accuracy: 0.9202 - val_loss: 0.2133 - val_accuracy: 0.9147\n"
     ]
    }
   ],
   "source": [
    "model.compile(loss='binary_crossentropy', optimizer='sgd', metrics=['accuracy'])\n",
    "\n",
    "train_history=model.fit(x_img_train_normalize, y_label_train_OneHot,\n",
    "                        validation_split=0.25,\n",
    "                        epochs=12, batch_size=128, verbose=1)      "
   ]
  },
  {
   "cell_type": "code",
   "execution_count": 31,
   "metadata": {},
   "outputs": [
    {
     "data": {
      "image/png": "[encoded data removed]",
      "text/plain": [
       "<Figure size 432x288 with 1 Axes>"
      ]
     },
     "metadata": {
      "needs_background": "light"
     },
     "output_type": "display_data"
    },
    {
     "data": {
      "image/png": "[encoded data removed]",
      "text/plain": [
       "<Figure size 432x288 with 1 Axes>"
      ]
     },
     "metadata": {
      "needs_background": "light"
     },
     "output_type": "display_data"
    }
   ],
   "source": [
    "show_train_history('accuracy','val_accuracy')\n",
    "show_train_history('loss','val_loss')"
   ]
  }
 ],
 "metadata": {
  "colab": {
   "name": "Day71-使用損失函數_HW.ipynb",
   "provenance": [],
   "version": "0.3.2"
  },
  "kernelspec": {
   "display_name": "Python 3",
   "language": "python",
   "name": "python3"
  },
  "language_info": {
   "codemirror_mode": {
    "name": "ipython",
    "version": 3
   },
   "file_extension": ".py",
   "mimetype": "text/x-python",
   "name": "python",
   "nbconvert_exporter": "python",
   "pygments_lexer": "ipython3",
   "version": "3.7.3"
  }
 },
 "nbformat": 4,
 "nbformat_minor": 1
}
