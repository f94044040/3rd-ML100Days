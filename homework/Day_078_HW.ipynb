{
 "cells": [
  {
   "cell_type": "markdown",
   "metadata": {},
   "source": [
    "## Work\n",
    "1. 請嘗試將 preproc_x 替換成以每筆資料的 min/max 進行標準化至 -1 ~ 1 間，再進行訓練\n",
    "2. 請嘗試將 mlp 疊更深 (e.g 5~10 層)，進行訓練後觀察 learning curve 的走勢\n",
    "3. (optional) 請改用 GPU 進行訓練 (如果你有 GPU 的話)，比較使用 CPU 與 GPU 的訓練速度"
   ]
  },
  {
   "cell_type": "code",
   "execution_count": 1,
   "metadata": {},
   "outputs": [],
   "source": [
    "## \n",
    "\"\"\"\n",
    "Your code here (optional)\n",
    "確認硬體資源\n",
    "\"\"\"\n"
   ]
  },
  {
   "cell_type": "code",
   "execution_count": 1,
   "metadata": {},
   "outputs": [],
   "source": [
    "import os\n",
    "import tensorflow.keras\n",
    "\n",
    "# 請嘗試設定 GPU：os.environ\n",
    "os.environ[\"CUDA_VISIBLE_DEVICES\"] = \"\""
   ]
  },
  {
   "cell_type": "code",
   "execution_count": 2,
   "metadata": {},
   "outputs": [],
   "source": [
    "train, test = tensorflow.keras.datasets.cifar10.load_data()"
   ]
  },
  {
   "cell_type": "code",
   "execution_count": 3,
   "metadata": {},
   "outputs": [],
   "source": [
    "## 資料前處理\n",
    "\"\"\"\n",
    "Your code here\n",
    "\"\"\"\n",
    "## 資料前處理\n",
    "def preproc_x(x, flatten=True):\n",
    "    x = x / 255.\n",
    "    if flatten:\n",
    "        x = x.reshape((len(x), -1))\n",
    "    return x\n",
    "\n",
    "def preproc_y(y, num_classes=10):\n",
    "    if y.shape[-1] == 1:\n",
    "        y = tensorflow.keras.utils.to_categorical(y, num_classes)\n",
    "    return y    "
   ]
  },
  {
   "cell_type": "code",
   "execution_count": 4,
   "metadata": {},
   "outputs": [],
   "source": [
    "x_train, y_train = train\n",
    "x_test, y_test = test\n",
    "\n",
    "# Preproc the inputs\n",
    "x_train = preproc_x(x_train)\n",
    "x_test = preproc_x(x_test)\n",
    "\n",
    "# Preprc the outputs\n",
    "y_train = preproc_y(y_train)\n",
    "y_test = preproc_y(y_test)"
   ]
  },
  {
   "cell_type": "code",
   "execution_count": 10,
   "metadata": {},
   "outputs": [],
   "source": [
    "\"\"\"Code Here\n",
    "建立你的神經網路\n",
    "\"\"\"\n",
    "def build_mlp(input_shape, output_units=10, num_neurons=[512, 256, 128]):\n",
    "    input_layer = tensorflow.keras.layers.Input(input_shape)\n",
    "    \n",
    "    for i, n_units in enumerate(num_neurons):\n",
    "        if i == 0:\n",
    "            x = tensorflow.keras.layers.Dense(units=n_units, activation=\"relu\", name=\"hidden_layer\"+str(i+1))(input_layer)\n",
    "        else:\n",
    "            x = tensorflow.keras.layers.Dense(units=n_units, activation=\"relu\", name=\"hidden_layer\"+str(i+1))(x)\n",
    "    \n",
    "    out = tensorflow.keras.layers.Dense(units=output_units, activation=\"softmax\", name=\"output\")(x)\n",
    "    \n",
    "    model = tensorflow.keras.models.Model(inputs=[input_layer], outputs=[out])\n",
    "    return model"
   ]
  },
  {
   "cell_type": "code",
   "execution_count": 11,
   "metadata": {},
   "outputs": [],
   "source": [
    "## 超參數設定\n",
    "LEARNING_RATE = 0.001\n",
    "EPOCHS = 100\n",
    "BATCH_SIZE = 256"
   ]
  },
  {
   "cell_type": "code",
   "execution_count": 13,
   "metadata": {},
   "outputs": [
    {
     "name": "stdout",
     "output_type": "stream",
     "text": [
      "Model: \"model\"\n",
      "_________________________________________________________________\n",
      "Layer (type)                 Output Shape              Param #   \n",
      "=================================================================\n",
      "input_1 (InputLayer)         [(None, 3072)]            0         \n",
      "_________________________________________________________________\n",
      "hidden_layer1 (Dense)        (None, 512)               1573376   \n",
      "_________________________________________________________________\n",
      "hidden_layer2 (Dense)        (None, 256)               131328    \n",
      "_________________________________________________________________\n",
      "hidden_layer3 (Dense)        (None, 128)               32896     \n",
      "_________________________________________________________________\n",
      "output (Dense)               (None, 10)                1290      \n",
      "=================================================================\n",
      "Total params: 1,738,890\n",
      "Trainable params: 1,738,890\n",
      "Non-trainable params: 0\n",
      "_________________________________________________________________\n"
     ]
    }
   ],
   "source": [
    "model = build_mlp(input_shape=x_train.shape[1:])\n",
    "model.summary()"
   ]
  },
  {
   "cell_type": "code",
   "execution_count": 14,
   "metadata": {},
   "outputs": [],
   "source": [
    "optimizer = tensorflow.keras.optimizers.Adam(lr=LEARNING_RATE)\n",
    "model.compile(loss=\"categorical_crossentropy\", metrics=[\"accuracy\"], optimizer=optimizer)"
   ]
  },
  {
   "cell_type": "code",
   "execution_count": 15,
   "metadata": {},
   "outputs": [
    {
     "name": "stdout",
     "output_type": "stream",
     "text": [
      "Train on 50000 samples, validate on 10000 samples\n",
      "Epoch 1/100\n",
      "50000/50000 [==============================] - 5s 108us/sample - loss: 1.9367 - accuracy: 0.3006 - val_loss: 1.7643 - val_accuracy: 0.3623\n",
      "Epoch 2/100\n",
      "50000/50000 [==============================] - 5s 96us/sample - loss: 1.7036 - accuracy: 0.3905 - val_loss: 1.6163 - val_accuracy: 0.4228\n",
      "Epoch 3/100\n",
      "50000/50000 [==============================] - 4s 86us/sample - loss: 1.6270 - accuracy: 0.4181 - val_loss: 1.5763 - val_accuracy: 0.4363\n",
      "Epoch 4/100\n",
      "50000/50000 [==============================] - 4s 84us/sample - loss: 1.5477 - accuracy: 0.4463 - val_loss: 1.6024 - val_accuracy: 0.4251\n",
      "Epoch 5/100\n",
      "50000/50000 [==============================] - 4s 86us/sample - loss: 1.4957 - accuracy: 0.4677 - val_loss: 1.5274 - val_accuracy: 0.4536\n",
      "Epoch 6/100\n",
      "50000/50000 [==============================] - 4s 86us/sample - loss: 1.4720 - accuracy: 0.4765 - val_loss: 1.4814 - val_accuracy: 0.4722\n",
      "Epoch 7/100\n",
      "50000/50000 [==============================] - 4s 89us/sample - loss: 1.4262 - accuracy: 0.4935 - val_loss: 1.4825 - val_accuracy: 0.4659\n",
      "Epoch 8/100\n",
      "50000/50000 [==============================] - 6s 128us/sample - loss: 1.3964 - accuracy: 0.5028 - val_loss: 1.4274 - val_accuracy: 0.4879\n",
      "Epoch 9/100\n",
      "50000/50000 [==============================] - 5s 93us/sample - loss: 1.3739 - accuracy: 0.5119 - val_loss: 1.4481 - val_accuracy: 0.4878\n",
      "Epoch 10/100\n",
      "50000/50000 [==============================] - 5s 95us/sample - loss: 1.3316 - accuracy: 0.5248 - val_loss: 1.4187 - val_accuracy: 0.4955\n",
      "Epoch 11/100\n",
      "50000/50000 [==============================] - 5s 92us/sample - loss: 1.3193 - accuracy: 0.5297 - val_loss: 1.4114 - val_accuracy: 0.4989\n",
      "Epoch 12/100\n",
      "50000/50000 [==============================] - 5s 100us/sample - loss: 1.2922 - accuracy: 0.5417 - val_loss: 1.4012 - val_accuracy: 0.5097\n",
      "Epoch 13/100\n",
      "50000/50000 [==============================] - 5s 92us/sample - loss: 1.2646 - accuracy: 0.5494 - val_loss: 1.4172 - val_accuracy: 0.5008\n",
      "Epoch 14/100\n",
      "50000/50000 [==============================] - 5s 96us/sample - loss: 1.2396 - accuracy: 0.5591 - val_loss: 1.4283 - val_accuracy: 0.4957\n",
      "Epoch 15/100\n",
      "50000/50000 [==============================] - 5s 90us/sample - loss: 1.2279 - accuracy: 0.5611 - val_loss: 1.3891 - val_accuracy: 0.5094\n",
      "Epoch 16/100\n",
      "50000/50000 [==============================] - 4s 87us/sample - loss: 1.2037 - accuracy: 0.5733 - val_loss: 1.3857 - val_accuracy: 0.5131\n",
      "Epoch 17/100\n",
      "50000/50000 [==============================] - 4s 87us/sample - loss: 1.1878 - accuracy: 0.5782 - val_loss: 1.4198 - val_accuracy: 0.4924\n",
      "Epoch 18/100\n",
      "50000/50000 [==============================] - 5s 95us/sample - loss: 1.1649 - accuracy: 0.5858 - val_loss: 1.3648 - val_accuracy: 0.5230\n",
      "Epoch 19/100\n",
      "50000/50000 [==============================] - 5s 108us/sample - loss: 1.1325 - accuracy: 0.5987 - val_loss: 1.3710 - val_accuracy: 0.5156\n",
      "Epoch 20/100\n",
      "50000/50000 [==============================] - 5s 96us/sample - loss: 1.1267 - accuracy: 0.5972 - val_loss: 1.3569 - val_accuracy: 0.5261\n",
      "Epoch 21/100\n",
      "50000/50000 [==============================] - 5s 102us/sample - loss: 1.0971 - accuracy: 0.6096 - val_loss: 1.3587 - val_accuracy: 0.5243\n",
      "Epoch 22/100\n",
      "50000/50000 [==============================] - 5s 110us/sample - loss: 1.0863 - accuracy: 0.6136 - val_loss: 1.3907 - val_accuracy: 0.5172\n",
      "Epoch 23/100\n",
      "50000/50000 [==============================] - 5s 93us/sample - loss: 1.0679 - accuracy: 0.6176 - val_loss: 1.4176 - val_accuracy: 0.5178\n",
      "Epoch 24/100\n",
      "50000/50000 [==============================] - 5s 90us/sample - loss: 1.0410 - accuracy: 0.6289 - val_loss: 1.3754 - val_accuracy: 0.5230\n",
      "Epoch 25/100\n",
      "50000/50000 [==============================] - 5s 92us/sample - loss: 1.0275 - accuracy: 0.6334 - val_loss: 1.4014 - val_accuracy: 0.5223\n",
      "Epoch 26/100\n",
      "50000/50000 [==============================] - 4s 90us/sample - loss: 0.9995 - accuracy: 0.6444 - val_loss: 1.3924 - val_accuracy: 0.5335\n",
      "Epoch 27/100\n",
      "50000/50000 [==============================] - 5s 90us/sample - loss: 0.9970 - accuracy: 0.6426 - val_loss: 1.4323 - val_accuracy: 0.5226\n",
      "Epoch 28/100\n",
      "50000/50000 [==============================] - 5s 94us/sample - loss: 0.9711 - accuracy: 0.6542 - val_loss: 1.4071 - val_accuracy: 0.5225\n",
      "Epoch 29/100\n",
      "50000/50000 [==============================] - 5s 100us/sample - loss: 0.9533 - accuracy: 0.6597 - val_loss: 1.4089 - val_accuracy: 0.5335\n",
      "Epoch 30/100\n",
      "50000/50000 [==============================] - 6s 123us/sample - loss: 0.9425 - accuracy: 0.6622 - val_loss: 1.4291 - val_accuracy: 0.5239\n",
      "Epoch 31/100\n",
      "50000/50000 [==============================] - 5s 106us/sample - loss: 0.9291 - accuracy: 0.6665 - val_loss: 1.4718 - val_accuracy: 0.5245\n",
      "Epoch 32/100\n",
      "50000/50000 [==============================] - 5s 97us/sample - loss: 0.9061 - accuracy: 0.6749 - val_loss: 1.4440 - val_accuracy: 0.5216\n",
      "Epoch 33/100\n",
      "50000/50000 [==============================] - 5s 94us/sample - loss: 0.8925 - accuracy: 0.6821 - val_loss: 1.4680 - val_accuracy: 0.5287\n",
      "Epoch 34/100\n",
      "50000/50000 [==============================] - 5s 94us/sample - loss: 0.8790 - accuracy: 0.6853 - val_loss: 1.4741 - val_accuracy: 0.5209\n",
      "Epoch 35/100\n",
      "50000/50000 [==============================] - 5s 98us/sample - loss: 0.8600 - accuracy: 0.6922 - val_loss: 1.4678 - val_accuracy: 0.5270\n",
      "Epoch 36/100\n",
      "50000/50000 [==============================] - 5s 101us/sample - loss: 0.8428 - accuracy: 0.6992 - val_loss: 1.5610 - val_accuracy: 0.5072\n",
      "Epoch 37/100\n",
      "50000/50000 [==============================] - 5s 103us/sample - loss: 0.8313 - accuracy: 0.7027 - val_loss: 1.5080 - val_accuracy: 0.5287\n",
      "Epoch 38/100\n",
      "50000/50000 [==============================] - 5s 94us/sample - loss: 0.8141 - accuracy: 0.7104 - val_loss: 1.5336 - val_accuracy: 0.5218\n",
      "Epoch 39/100\n",
      "50000/50000 [==============================] - 5s 106us/sample - loss: 0.8023 - accuracy: 0.7139 - val_loss: 1.5343 - val_accuracy: 0.5276\n",
      "Epoch 40/100\n",
      "50000/50000 [==============================] - 5s 105us/sample - loss: 0.7809 - accuracy: 0.7217 - val_loss: 1.6025 - val_accuracy: 0.5195\n",
      "Epoch 41/100\n",
      "50000/50000 [==============================] - 5s 101us/sample - loss: 0.7566 - accuracy: 0.7313 - val_loss: 1.6056 - val_accuracy: 0.5172\n",
      "Epoch 42/100\n",
      "50000/50000 [==============================] - 5s 103us/sample - loss: 0.7569 - accuracy: 0.7308 - val_loss: 1.5902 - val_accuracy: 0.5231\n",
      "Epoch 43/100\n",
      "50000/50000 [==============================] - 5s 101us/sample - loss: 0.7505 - accuracy: 0.7317 - val_loss: 1.6208 - val_accuracy: 0.5225\n",
      "Epoch 44/100\n",
      "50000/50000 [==============================] - 5s 100us/sample - loss: 0.7228 - accuracy: 0.7426 - val_loss: 1.6413 - val_accuracy: 0.5197\n",
      "Epoch 45/100\n",
      "50000/50000 [==============================] - 5s 100us/sample - loss: 0.7112 - accuracy: 0.7463 - val_loss: 1.6677 - val_accuracy: 0.5172\n",
      "Epoch 46/100\n",
      "50000/50000 [==============================] - 5s 104us/sample - loss: 0.6969 - accuracy: 0.7521 - val_loss: 1.7021 - val_accuracy: 0.5141\n",
      "Epoch 47/100\n",
      "50000/50000 [==============================] - 5s 98us/sample - loss: 0.6898 - accuracy: 0.7540 - val_loss: 1.7318 - val_accuracy: 0.5123\n",
      "Epoch 48/100\n",
      "50000/50000 [==============================] - 5s 96us/sample - loss: 0.6710 - accuracy: 0.7579 - val_loss: 1.7396 - val_accuracy: 0.5185\n",
      "Epoch 49/100\n",
      "50000/50000 [==============================] - 5s 95us/sample - loss: 0.6622 - accuracy: 0.7635 - val_loss: 1.7237 - val_accuracy: 0.5160\n",
      "Epoch 50/100\n",
      "50000/50000 [==============================] - 5s 98us/sample - loss: 0.6404 - accuracy: 0.7737 - val_loss: 1.7719 - val_accuracy: 0.5133\n",
      "Epoch 51/100\n",
      "50000/50000 [==============================] - 5s 93us/sample - loss: 0.6378 - accuracy: 0.7719 - val_loss: 1.7899 - val_accuracy: 0.5115\n",
      "Epoch 52/100\n",
      "50000/50000 [==============================] - 5s 93us/sample - loss: 0.6239 - accuracy: 0.7784 - val_loss: 1.7827 - val_accuracy: 0.5127\n",
      "Epoch 53/100\n",
      "50000/50000 [==============================] - 5s 93us/sample - loss: 0.6131 - accuracy: 0.7807 - val_loss: 1.8642 - val_accuracy: 0.5095\n",
      "Epoch 54/100\n",
      "50000/50000 [==============================] - 5s 93us/sample - loss: 0.6045 - accuracy: 0.7834 - val_loss: 1.8478 - val_accuracy: 0.5168\n"
     ]
    },
    {
     "name": "stdout",
     "output_type": "stream",
     "text": [
      "Epoch 55/100\n",
      "50000/50000 [==============================] - 5s 92us/sample - loss: 0.5904 - accuracy: 0.7897 - val_loss: 1.9095 - val_accuracy: 0.5111\n",
      "Epoch 56/100\n",
      "50000/50000 [==============================] - 5s 93us/sample - loss: 0.5856 - accuracy: 0.7910 - val_loss: 1.9565 - val_accuracy: 0.5003\n",
      "Epoch 57/100\n",
      "50000/50000 [==============================] - 5s 92us/sample - loss: 0.5825 - accuracy: 0.7911 - val_loss: 1.9797 - val_accuracy: 0.5161\n",
      "Epoch 58/100\n",
      "50000/50000 [==============================] - 5s 93us/sample - loss: 0.5594 - accuracy: 0.8018 - val_loss: 2.0137 - val_accuracy: 0.5011\n",
      "Epoch 59/100\n",
      "50000/50000 [==============================] - 5s 99us/sample - loss: 0.5498 - accuracy: 0.8027 - val_loss: 1.9841 - val_accuracy: 0.5146\n",
      "Epoch 60/100\n",
      "50000/50000 [==============================] - 5s 108us/sample - loss: 0.5301 - accuracy: 0.8106 - val_loss: 2.0647 - val_accuracy: 0.5091\n",
      "Epoch 61/100\n",
      "50000/50000 [==============================] - 5s 106us/sample - loss: 0.5395 - accuracy: 0.8070 - val_loss: 2.0804 - val_accuracy: 0.5057\n",
      "Epoch 62/100\n",
      "50000/50000 [==============================] - 5s 104us/sample - loss: 0.5322 - accuracy: 0.8088 - val_loss: 2.1007 - val_accuracy: 0.5132\n",
      "Epoch 63/100\n",
      "50000/50000 [==============================] - 5s 93us/sample - loss: 0.5215 - accuracy: 0.8129 - val_loss: 2.1135 - val_accuracy: 0.5134\n",
      "Epoch 64/100\n",
      "50000/50000 [==============================] - 5s 99us/sample - loss: 0.4932 - accuracy: 0.8233 - val_loss: 2.1451 - val_accuracy: 0.5054\n",
      "Epoch 65/100\n",
      "50000/50000 [==============================] - 5s 99us/sample - loss: 0.4971 - accuracy: 0.8229 - val_loss: 2.2325 - val_accuracy: 0.5071\n",
      "Epoch 66/100\n",
      "50000/50000 [==============================] - 6s 112us/sample - loss: 0.4820 - accuracy: 0.8283 - val_loss: 2.2155 - val_accuracy: 0.5063\n",
      "Epoch 67/100\n",
      "50000/50000 [==============================] - 5s 107us/sample - loss: 0.4720 - accuracy: 0.8325 - val_loss: 2.2280 - val_accuracy: 0.5077\n",
      "Epoch 68/100\n",
      "50000/50000 [==============================] - 5s 99us/sample - loss: 0.4602 - accuracy: 0.8349 - val_loss: 2.2850 - val_accuracy: 0.5057\n",
      "Epoch 69/100\n",
      "50000/50000 [==============================] - 5s 106us/sample - loss: 0.4718 - accuracy: 0.8299 - val_loss: 2.2535 - val_accuracy: 0.5070\n",
      "Epoch 70/100\n",
      "50000/50000 [==============================] - 5s 102us/sample - loss: 0.4553 - accuracy: 0.8388 - val_loss: 2.3314 - val_accuracy: 0.5033\n",
      "Epoch 71/100\n",
      "50000/50000 [==============================] - 5s 102us/sample - loss: 0.4542 - accuracy: 0.8373 - val_loss: 2.3288 - val_accuracy: 0.5042\n",
      "Epoch 72/100\n",
      "50000/50000 [==============================] - 5s 104us/sample - loss: 0.4481 - accuracy: 0.8379 - val_loss: 2.3768 - val_accuracy: 0.5042\n",
      "Epoch 73/100\n",
      "50000/50000 [==============================] - 5s 99us/sample - loss: 0.4218 - accuracy: 0.8502 - val_loss: 2.4597 - val_accuracy: 0.5092\n",
      "Epoch 74/100\n",
      "50000/50000 [==============================] - 6s 125us/sample - loss: 0.4298 - accuracy: 0.8479 - val_loss: 2.5295 - val_accuracy: 0.5003\n",
      "Epoch 75/100\n",
      "50000/50000 [==============================] - 5s 101us/sample - loss: 0.4267 - accuracy: 0.8479 - val_loss: 2.4714 - val_accuracy: 0.5048\n",
      "Epoch 76/100\n",
      "50000/50000 [==============================] - 5s 98us/sample - loss: 0.4111 - accuracy: 0.8513 - val_loss: 2.5033 - val_accuracy: 0.5048\n",
      "Epoch 77/100\n",
      "50000/50000 [==============================] - 5s 104us/sample - loss: 0.4019 - accuracy: 0.8563 - val_loss: 2.5873 - val_accuracy: 0.4973\n",
      "Epoch 78/100\n",
      "50000/50000 [==============================] - 5s 110us/sample - loss: 0.4017 - accuracy: 0.8554 - val_loss: 2.5868 - val_accuracy: 0.5052\n",
      "Epoch 79/100\n",
      "50000/50000 [==============================] - 6s 112us/sample - loss: 0.3940 - accuracy: 0.8583 - val_loss: 2.6145 - val_accuracy: 0.4959\n",
      "Epoch 80/100\n",
      "50000/50000 [==============================] - 5s 97us/sample - loss: 0.3684 - accuracy: 0.8694 - val_loss: 2.6065 - val_accuracy: 0.5009\n",
      "Epoch 81/100\n",
      "50000/50000 [==============================] - 5s 97us/sample - loss: 0.3798 - accuracy: 0.8638 - val_loss: 2.7916 - val_accuracy: 0.4962\n",
      "Epoch 82/100\n",
      "50000/50000 [==============================] - 5s 96us/sample - loss: 0.3729 - accuracy: 0.8647 - val_loss: 2.6894 - val_accuracy: 0.4992\n",
      "Epoch 83/100\n",
      "50000/50000 [==============================] - 5s 96us/sample - loss: 0.3881 - accuracy: 0.8598 - val_loss: 2.7162 - val_accuracy: 0.5030\n",
      "Epoch 84/100\n",
      "50000/50000 [==============================] - 5s 107us/sample - loss: 0.3624 - accuracy: 0.8707 - val_loss: 2.8298 - val_accuracy: 0.5009\n",
      "Epoch 85/100\n",
      "50000/50000 [==============================] - 5s 103us/sample - loss: 0.3536 - accuracy: 0.8741 - val_loss: 2.8427 - val_accuracy: 0.4993\n",
      "Epoch 86/100\n",
      "50000/50000 [==============================] - 5s 104us/sample - loss: 0.3531 - accuracy: 0.8732 - val_loss: 2.8302 - val_accuracy: 0.5036\n",
      "Epoch 87/100\n",
      "50000/50000 [==============================] - 5s 99us/sample - loss: 0.3444 - accuracy: 0.8769 - val_loss: 2.9457 - val_accuracy: 0.5003\n",
      "Epoch 88/100\n",
      "50000/50000 [==============================] - 5s 98us/sample - loss: 0.3388 - accuracy: 0.8790 - val_loss: 2.9227 - val_accuracy: 0.5042\n",
      "Epoch 89/100\n",
      "50000/50000 [==============================] - 5s 104us/sample - loss: 0.3729 - accuracy: 0.8657 - val_loss: 2.8719 - val_accuracy: 0.5014\n",
      "Epoch 90/100\n",
      "50000/50000 [==============================] - 5s 99us/sample - loss: 0.3285 - accuracy: 0.8821 - val_loss: 2.9414 - val_accuracy: 0.4992\n",
      "Epoch 91/100\n",
      "50000/50000 [==============================] - 5s 97us/sample - loss: 0.3163 - accuracy: 0.8865 - val_loss: 3.0929 - val_accuracy: 0.4979\n",
      "Epoch 92/100\n",
      "50000/50000 [==============================] - 5s 98us/sample - loss: 0.3452 - accuracy: 0.8777 - val_loss: 2.9725 - val_accuracy: 0.4937\n",
      "Epoch 93/100\n",
      "50000/50000 [==============================] - 5s 98us/sample - loss: 0.3376 - accuracy: 0.8796 - val_loss: 3.0810 - val_accuracy: 0.4982\n",
      "Epoch 94/100\n",
      "50000/50000 [==============================] - 5s 95us/sample - loss: 0.3137 - accuracy: 0.8871 - val_loss: 2.9985 - val_accuracy: 0.5009\n",
      "Epoch 95/100\n",
      "50000/50000 [==============================] - 6s 120us/sample - loss: 0.3137 - accuracy: 0.8873 - val_loss: 3.0766 - val_accuracy: 0.4937\n",
      "Epoch 96/100\n",
      "50000/50000 [==============================] - 9s 186us/sample - loss: 0.3331 - accuracy: 0.8792 - val_loss: 3.1318 - val_accuracy: 0.4986\n",
      "Epoch 97/100\n",
      "50000/50000 [==============================] - 5s 107us/sample - loss: 0.2916 - accuracy: 0.8955 - val_loss: 3.1434 - val_accuracy: 0.5020\n",
      "Epoch 98/100\n",
      "50000/50000 [==============================] - 5s 96us/sample - loss: 0.2747 - accuracy: 0.9033 - val_loss: 3.1894 - val_accuracy: 0.4983\n",
      "Epoch 99/100\n",
      "50000/50000 [==============================] - 5s 95us/sample - loss: 0.3052 - accuracy: 0.8901 - val_loss: 3.2128 - val_accuracy: 0.4924\n",
      "Epoch 100/100\n",
      "50000/50000 [==============================] - 5s 103us/sample - loss: 0.3027 - accuracy: 0.8901 - val_loss: 3.2314 - val_accuracy: 0.5014\n"
     ]
    },
    {
     "data": {
      "text/plain": [
       "<tensorflow.python.keras.callbacks.History at 0x2c00b8b24a8>"
      ]
     },
     "execution_count": 15,
     "metadata": {},
     "output_type": "execute_result"
    }
   ],
   "source": [
    "model.fit(x_train, y_train, \n",
    "          epochs=EPOCHS, \n",
    "          batch_size=BATCH_SIZE, \n",
    "          validation_data=(x_test, y_test), \n",
    "          shuffle=True)"
   ]
  },
  {
   "cell_type": "code",
   "execution_count": 17,
   "metadata": {},
   "outputs": [
    {
     "data": {
      "image/png": "[encoded data removed]",
      "text/plain": [
       "<Figure size 432x288 with 1 Axes>"
      ]
     },
     "metadata": {
      "needs_background": "light"
     },
     "output_type": "display_data"
    },
    {
     "data": {
      "image/png": "[encoded data removed]",
      "text/plain": [
       "<Figure size 432x288 with 1 Axes>"
      ]
     },
     "metadata": {
      "needs_background": "light"
     },
     "output_type": "display_data"
    }
   ],
   "source": [
    "import matplotlib.pyplot as plt\n",
    "\n",
    "\n",
    "train_loss = model.history.history[\"loss\"]\n",
    "valid_loss = model.history.history[\"val_loss\"]\n",
    "\n",
    "train_acc = model.history.history[\"accuracy\"]\n",
    "valid_acc = model.history.history[\"val_accuracy\"]\n",
    "\n",
    "plt.plot(range(len(train_loss)), train_loss, label=\"train loss\")\n",
    "plt.plot(range(len(valid_loss)), valid_loss, label=\"valid loss\")\n",
    "plt.legend()\n",
    "plt.title(\"Loss\")\n",
    "plt.show()\n",
    "\n",
    "plt.plot(range(len(train_acc)), train_acc, label=\"train accuracy\")\n",
    "plt.plot(range(len(valid_acc)), valid_acc, label=\"valid accuracy\")\n",
    "plt.legend()\n",
    "plt.title(\"Accuracy\")\n",
    "plt.show()"
   ]
  }
 ],
 "metadata": {
  "kernelspec": {
   "display_name": "Python 3",
   "language": "python",
   "name": "python3"
  },
  "language_info": {
   "codemirror_mode": {
    "name": "ipython",
    "version": 3
   },
   "file_extension": ".py",
   "mimetype": "text/x-python",
   "name": "python",
   "nbconvert_exporter": "python",
   "pygments_lexer": "ipython3",
   "version": "3.7.3"
  }
 },
 "nbformat": 4,
 "nbformat_minor": 2
}
