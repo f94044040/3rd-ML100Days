{
 "cells": [
  {
   "cell_type": "markdown",
   "metadata": {},
   "source": [
    "## Work\n",
    "### 請結合前面的知識與程式碼，比較不同的 regularization 的組合對訓練的結果與影響：如 dropout, regularizers, batch-normalization 等"
   ]
  },
  {
   "cell_type": "code",
   "execution_count": 2,
   "metadata": {},
   "outputs": [],
   "source": [
    "import os\n",
    "import tensorflow.keras\n",
    "import itertools\n",
    "# Disable GPU\n",
    "os.environ[\"CUDA_VISIBLE_DEVICES\"] = \"0,1\""
   ]
  },
  {
   "cell_type": "code",
   "execution_count": 3,
   "metadata": {},
   "outputs": [],
   "source": [
    "train, test = tensorflow.keras.datasets.cifar10.load_data()"
   ]
  },
  {
   "cell_type": "code",
   "execution_count": 4,
   "metadata": {},
   "outputs": [],
   "source": [
    "## 資料前處理\n",
    "def preproc_x(x, flatten=True):\n",
    "    x = x / 255.\n",
    "    if flatten:\n",
    "        x = x.reshape((len(x), -1))\n",
    "    return x\n",
    "\n",
    "def preproc_y(y, num_classes=10):\n",
    "    if y.shape[-1] == 1:\n",
    "        y = tensorflow.keras.utils.to_categorical(y, num_classes)\n",
    "    return y    "
   ]
  },
  {
   "cell_type": "code",
   "execution_count": 5,
   "metadata": {},
   "outputs": [],
   "source": [
    "x_train, y_train = train\n",
    "x_test, y_test = test\n",
    "\n",
    "# Preproc the inputs\n",
    "x_train = preproc_x(x_train)\n",
    "x_test = preproc_x(x_test)\n",
    "\n",
    "# Preprc the outputs\n",
    "y_train = preproc_y(y_train)\n",
    "y_test = preproc_y(y_test)"
   ]
  },
  {
   "cell_type": "code",
   "execution_count": 13,
   "metadata": {},
   "outputs": [],
   "source": [
    "from tensorflow.keras.regularizers import l1, l2, l1_l2\n",
    "from tensorflow.keras.layers import Dropout\n",
    "from tensorflow.keras.layers import BatchNormalization\n",
    "\n",
    "\n",
    "def build_mlp(input_shape, output_units=10, num_neurons=[512, 256, 128], l2_ratio=1e-8, drp_ratio=0.2):\n",
    "    input_layer = tensorflow.keras.layers.Input(input_shape)\n",
    "    \n",
    "    for i, n_units in enumerate(num_neurons):\n",
    "        if i == 0:\n",
    "            x = tensorflow.keras.layers.Dense(units=n_units, \n",
    "                                   activation=\"relu\", \n",
    "                                   name=\"hidden_layer\"+str(i+1), \n",
    "                                   kernel_regularizer=l2(l2_ratio))(input_layer)\n",
    "            x = Dropout(drp_ratio)(x)\n",
    "            x = BatchNormalization()(x)\n",
    "        else:\n",
    "            x = tensorflow.keras.layers.Dense(units=n_units, \n",
    "                                   activation=\"relu\", \n",
    "                                   name=\"hidden_layer\"+str(i+1),\n",
    "                                   kernel_regularizer=l2(l2_ratio))(x)\n",
    "            x = Dropout(drp_ratio)(x)\n",
    "            x = BatchNormalization()(x)\n",
    "    \n",
    "    out = tensorflow.keras.layers.Dense(units=output_units, activation=\"softmax\", name=\"output\")(x)\n",
    "    \n",
    "    model = tensorflow.keras.models.Model(inputs=[input_layer], outputs=[out])\n",
    "    return model"
   ]
  },
  {
   "cell_type": "code",
   "execution_count": 11,
   "metadata": {},
   "outputs": [],
   "source": [
    "## 超參數設定\n",
    "LEARNING_RATE = 1e-3\n",
    "EPOCHS = 50\n",
    "BATCH_SIZE = 256\n",
    "MOMENTUM = 0.95\n",
    "Dropout_EXP = 0.25\n",
    "L2_EXP = 1e-8"
   ]
  },
  {
   "cell_type": "code",
   "execution_count": 14,
   "metadata": {
    "scrolled": true
   },
   "outputs": [
    {
     "name": "stdout",
     "output_type": "stream",
     "text": [
      "Model: \"model\"\n",
      "_________________________________________________________________\n",
      "Layer (type)                 Output Shape              Param #   \n",
      "=================================================================\n",
      "input_1 (InputLayer)         [(None, 3072)]            0         \n",
      "_________________________________________________________________\n",
      "hidden_layer1 (Dense)        (None, 512)               1573376   \n",
      "_________________________________________________________________\n",
      "dropout (Dropout)            (None, 512)               0         \n",
      "_________________________________________________________________\n",
      "batch_normalization (BatchNo (None, 512)               2048      \n",
      "_________________________________________________________________\n",
      "hidden_layer2 (Dense)        (None, 256)               131328    \n",
      "_________________________________________________________________\n",
      "dropout_1 (Dropout)          (None, 256)               0         \n",
      "_________________________________________________________________\n",
      "batch_normalization_1 (Batch (None, 256)               1024      \n",
      "_________________________________________________________________\n",
      "hidden_layer3 (Dense)        (None, 128)               32896     \n",
      "_________________________________________________________________\n",
      "dropout_2 (Dropout)          (None, 128)               0         \n",
      "_________________________________________________________________\n",
      "batch_normalization_2 (Batch (None, 128)               512       \n",
      "_________________________________________________________________\n",
      "output (Dense)               (None, 10)                1290      \n",
      "=================================================================\n",
      "Total params: 1,742,474\n",
      "Trainable params: 1,740,682\n",
      "Non-trainable params: 1,792\n",
      "_________________________________________________________________\n",
      "Train on 50000 samples, validate on 10000 samples\n",
      "Epoch 1/50\n",
      "50000/50000 [==============================] - 8s 162us/sample - loss: 2.3341 - accuracy: 0.2296 - val_loss: 1.8753 - val_accuracy: 0.3248\n",
      "Epoch 2/50\n",
      "50000/50000 [==============================] - 7s 131us/sample - loss: 1.9761 - accuracy: 0.3054 - val_loss: 1.7585 - val_accuracy: 0.3757\n",
      "Epoch 3/50\n",
      "50000/50000 [==============================] - 7s 131us/sample - loss: 1.8492 - accuracy: 0.3361 - val_loss: 1.7177 - val_accuracy: 0.3807\n",
      "Epoch 4/50\n",
      "50000/50000 [==============================] - 7s 135us/sample - loss: 1.7735 - accuracy: 0.3625 - val_loss: 1.6156 - val_accuracy: 0.4171\n",
      "Epoch 5/50\n",
      "50000/50000 [==============================] - 6s 129us/sample - loss: 1.7179 - accuracy: 0.3813 - val_loss: 1.5735 - val_accuracy: 0.4371\n",
      "Epoch 6/50\n",
      "50000/50000 [==============================] - 6s 125us/sample - loss: 1.6887 - accuracy: 0.3905 - val_loss: 1.5547 - val_accuracy: 0.4423\n",
      "Epoch 7/50\n",
      "50000/50000 [==============================] - 6s 128us/sample - loss: 1.6567 - accuracy: 0.4050 - val_loss: 1.5457 - val_accuracy: 0.4452\n",
      "Epoch 8/50\n",
      "50000/50000 [==============================] - 6s 126us/sample - loss: 1.6290 - accuracy: 0.4181 - val_loss: 1.5075 - val_accuracy: 0.4625\n",
      "Epoch 9/50\n",
      "50000/50000 [==============================] - 6s 128us/sample - loss: 1.6124 - accuracy: 0.4225 - val_loss: 1.5315 - val_accuracy: 0.4424\n",
      "Epoch 10/50\n",
      "50000/50000 [==============================] - 7s 136us/sample - loss: 1.5976 - accuracy: 0.4270 - val_loss: 1.5065 - val_accuracy: 0.4590\n",
      "Epoch 11/50\n",
      "50000/50000 [==============================] - 7s 132us/sample - loss: 1.5755 - accuracy: 0.4340 - val_loss: 1.4784 - val_accuracy: 0.4741\n",
      "Epoch 12/50\n",
      "50000/50000 [==============================] - 6s 129us/sample - loss: 1.5649 - accuracy: 0.4352 - val_loss: 1.4738 - val_accuracy: 0.4719\n",
      "Epoch 13/50\n",
      "50000/50000 [==============================] - 7s 131us/sample - loss: 1.5484 - accuracy: 0.4440 - val_loss: 1.5113 - val_accuracy: 0.4636\n",
      "Epoch 14/50\n",
      "50000/50000 [==============================] - 7s 132us/sample - loss: 1.5424 - accuracy: 0.4457 - val_loss: 1.4576 - val_accuracy: 0.4721\n",
      "Epoch 15/50\n",
      "50000/50000 [==============================] - 7s 132us/sample - loss: 1.5314 - accuracy: 0.4501 - val_loss: 1.4471 - val_accuracy: 0.4774\n",
      "Epoch 16/50\n",
      "50000/50000 [==============================] - 7s 133us/sample - loss: 1.5146 - accuracy: 0.4587 - val_loss: 1.4375 - val_accuracy: 0.4830\n",
      "Epoch 17/50\n",
      "50000/50000 [==============================] - 7s 133us/sample - loss: 1.5072 - accuracy: 0.4594 - val_loss: 1.4276 - val_accuracy: 0.4876\n",
      "Epoch 18/50\n",
      "50000/50000 [==============================] - 7s 133us/sample - loss: 1.5028 - accuracy: 0.4582 - val_loss: 1.4334 - val_accuracy: 0.4881\n",
      "Epoch 19/50\n",
      "50000/50000 [==============================] - 7s 134us/sample - loss: 1.4941 - accuracy: 0.4645 - val_loss: 1.4568 - val_accuracy: 0.4760\n",
      "Epoch 20/50\n",
      "50000/50000 [==============================] - 7s 134us/sample - loss: 1.4893 - accuracy: 0.4627 - val_loss: 1.4380 - val_accuracy: 0.4837\n",
      "Epoch 21/50\n",
      "50000/50000 [==============================] - 7s 134us/sample - loss: 1.4751 - accuracy: 0.4703 - val_loss: 1.4370 - val_accuracy: 0.4829\n",
      "Epoch 22/50\n",
      "50000/50000 [==============================] - 7s 134us/sample - loss: 1.4652 - accuracy: 0.4730 - val_loss: 1.4306 - val_accuracy: 0.4828\n",
      "Epoch 23/50\n",
      "50000/50000 [==============================] - 7s 135us/sample - loss: 1.4569 - accuracy: 0.4765 - val_loss: 1.4069 - val_accuracy: 0.5007\n",
      "Epoch 24/50\n",
      "50000/50000 [==============================] - 7s 137us/sample - loss: 1.4515 - accuracy: 0.4776 - val_loss: 1.4070 - val_accuracy: 0.4971\n",
      "Epoch 25/50\n",
      "50000/50000 [==============================] - 7s 138us/sample - loss: 1.4506 - accuracy: 0.4805 - val_loss: 1.4383 - val_accuracy: 0.4821\n",
      "Epoch 26/50\n",
      "50000/50000 [==============================] - 7s 139us/sample - loss: 1.4461 - accuracy: 0.4819 - val_loss: 1.4041 - val_accuracy: 0.5018\n",
      "Epoch 27/50\n",
      "50000/50000 [==============================] - 7s 143us/sample - loss: 1.4370 - accuracy: 0.4846 - val_loss: 1.4179 - val_accuracy: 0.4929\n",
      "Epoch 28/50\n",
      "50000/50000 [==============================] - 7s 139us/sample - loss: 1.4267 - accuracy: 0.4882 - val_loss: 1.3900 - val_accuracy: 0.5076\n",
      "Epoch 29/50\n",
      "50000/50000 [==============================] - 7s 141us/sample - loss: 1.4161 - accuracy: 0.4907 - val_loss: 1.3947 - val_accuracy: 0.4991\n",
      "Epoch 30/50\n",
      "50000/50000 [==============================] - 7s 142us/sample - loss: 1.4124 - accuracy: 0.4937 - val_loss: 1.4127 - val_accuracy: 0.4919\n",
      "Epoch 31/50\n",
      "50000/50000 [==============================] - 7s 141us/sample - loss: 1.4048 - accuracy: 0.4932 - val_loss: 1.3780 - val_accuracy: 0.5072\n",
      "Epoch 32/50\n",
      "50000/50000 [==============================] - 7s 141us/sample - loss: 1.3989 - accuracy: 0.4948 - val_loss: 1.4023 - val_accuracy: 0.4967\n",
      "Epoch 33/50\n",
      "50000/50000 [==============================] - 7s 143us/sample - loss: 1.3911 - accuracy: 0.5001 - val_loss: 1.3842 - val_accuracy: 0.5036\n",
      "Epoch 34/50\n",
      "50000/50000 [==============================] - 7s 145us/sample - loss: 1.3837 - accuracy: 0.5029 - val_loss: 1.4097 - val_accuracy: 0.4903\n",
      "Epoch 35/50\n",
      "50000/50000 [==============================] - 7s 143us/sample - loss: 1.3853 - accuracy: 0.5006 - val_loss: 1.3738 - val_accuracy: 0.5040\n",
      "Epoch 36/50\n",
      "50000/50000 [==============================] - 7s 148us/sample - loss: 1.3803 - accuracy: 0.5061 - val_loss: 1.3736 - val_accuracy: 0.5075\n",
      "Epoch 37/50\n",
      "50000/50000 [==============================] - 7s 146us/sample - loss: 1.3794 - accuracy: 0.5047 - val_loss: 1.3892 - val_accuracy: 0.5003\n",
      "Epoch 38/50\n",
      "50000/50000 [==============================] - 7s 142us/sample - loss: 1.3734 - accuracy: 0.5081 - val_loss: 1.3774 - val_accuracy: 0.5078\n",
      "Epoch 39/50\n",
      "50000/50000 [==============================] - 7s 143us/sample - loss: 1.3626 - accuracy: 0.5091 - val_loss: 1.3608 - val_accuracy: 0.5129\n",
      "Epoch 40/50\n",
      "50000/50000 [==============================] - 7s 144us/sample - loss: 1.3540 - accuracy: 0.5109 - val_loss: 1.3621 - val_accuracy: 0.5136\n",
      "Epoch 41/50\n",
      "50000/50000 [==============================] - 7s 143us/sample - loss: 1.3469 - accuracy: 0.5153 - val_loss: 1.3905 - val_accuracy: 0.5036\n",
      "Epoch 42/50\n",
      "50000/50000 [==============================] - 7s 145us/sample - loss: 1.3446 - accuracy: 0.5177 - val_loss: 1.3638 - val_accuracy: 0.5137\n"
     ]
    },
    {
     "name": "stdout",
     "output_type": "stream",
     "text": [
      "Epoch 43/50\n",
      "50000/50000 [==============================] - 7s 142us/sample - loss: 1.3486 - accuracy: 0.5145 - val_loss: 1.3727 - val_accuracy: 0.5103\n",
      "Epoch 44/50\n",
      "50000/50000 [==============================] - 7s 142us/sample - loss: 1.3411 - accuracy: 0.5177 - val_loss: 1.3809 - val_accuracy: 0.5090\n",
      "Epoch 45/50\n",
      "50000/50000 [==============================] - 7s 141us/sample - loss: 1.3409 - accuracy: 0.5184 - val_loss: 1.3706 - val_accuracy: 0.5122\n",
      "Epoch 46/50\n",
      "50000/50000 [==============================] - 7s 141us/sample - loss: 1.3364 - accuracy: 0.5208 - val_loss: 1.3678 - val_accuracy: 0.5088\n",
      "Epoch 47/50\n",
      "50000/50000 [==============================] - 7s 141us/sample - loss: 1.3431 - accuracy: 0.5160 - val_loss: 1.3552 - val_accuracy: 0.5185\n",
      "Epoch 48/50\n",
      "50000/50000 [==============================] - 7s 141us/sample - loss: 1.3315 - accuracy: 0.5231 - val_loss: 1.3872 - val_accuracy: 0.5071\n",
      "Epoch 49/50\n",
      "50000/50000 [==============================] - 7s 141us/sample - loss: 1.3260 - accuracy: 0.5259 - val_loss: 1.3599 - val_accuracy: 0.5177\n",
      "Epoch 50/50\n",
      "50000/50000 [==============================] - 7s 141us/sample - loss: 1.3223 - accuracy: 0.5232 - val_loss: 1.3764 - val_accuracy: 0.5098\n"
     ]
    }
   ],
   "source": [
    "result = {}\n",
    "model = build_mlp(input_shape=x_train.shape[1:], drp_ratio=Dropout_EXP, l2_ratio=L2_EXP)\n",
    "model.summary()\n",
    "optimizer = tensorflow.keras.optimizers.SGD(lr=LEARNING_RATE, nesterov=True, momentum=MOMENTUM)\n",
    "model.compile(loss=\"categorical_crossentropy\", metrics=[\"accuracy\"], optimizer=optimizer)\n",
    "\n",
    "model.fit(x_train, y_train, \n",
    "          epochs=EPOCHS, \n",
    "          batch_size=BATCH_SIZE, \n",
    "          validation_data=(x_test, y_test), \n",
    "          shuffle=True)\n",
    "\n",
    "# Collect results\n",
    "train_loss = model.history.history[\"loss\"]\n",
    "valid_loss = model.history.history[\"val_loss\"]\n",
    "train_acc = model.history.history[\"accuracy\"]\n",
    "valid_acc = model.history.history[\"val_accuracy\"]"
   ]
  },
  {
   "cell_type": "code",
   "execution_count": 15,
   "metadata": {},
   "outputs": [
    {
     "data": {
      "image/png": "[encoded data removed]",
      "text/plain": [
       "<Figure size 432x288 with 1 Axes>"
      ]
     },
     "metadata": {
      "needs_background": "light"
     },
     "output_type": "display_data"
    },
    {
     "data": {
      "image/png": "[encoded data removed]",
      "text/plain": [
       "<Figure size 432x288 with 1 Axes>"
      ]
     },
     "metadata": {
      "needs_background": "light"
     },
     "output_type": "display_data"
    }
   ],
   "source": [
    "import matplotlib.pyplot as plt\n",
    "%matplotlib inline\n",
    "\n",
    "plt.plot(range(len(train_loss)), train_loss, label=\"train loss\")\n",
    "plt.plot(range(len(valid_loss)), valid_loss, label=\"valid loss\")\n",
    "plt.legend()\n",
    "plt.title(\"Loss\")\n",
    "plt.show()\n",
    "\n",
    "plt.plot(range(len(train_acc)), train_acc, label=\"train accuracy\")\n",
    "plt.plot(range(len(valid_acc)), valid_acc, label=\"valid accuracy\")\n",
    "plt.legend()\n",
    "plt.title(\"Accuracy\")\n",
    "plt.show()"
   ]
  }
 ],
 "metadata": {
  "kernelspec": {
   "display_name": "Python 3",
   "language": "python",
   "name": "python3"
  },
  "language_info": {
   "codemirror_mode": {
    "name": "ipython",
    "version": 3
   },
   "file_extension": ".py",
   "mimetype": "text/x-python",
   "name": "python",
   "nbconvert_exporter": "python",
   "pygments_lexer": "ipython3",
   "version": "3.7.3"
  }
 },
 "nbformat": 4,
 "nbformat_minor": 2
}
