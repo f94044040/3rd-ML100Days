{
 "cells": [
  {
   "cell_type": "markdown",
   "metadata": {},
   "source": [
    "## Work\n",
    "1. 試比較有 BN 在 Batch_size = 2, 16, 32, 128, 256 下的差異\n",
    "2. 請嘗試將 BN 放在 Activation 之前，並比較訓練結果\n",
    "3. 請於 BN 放在 Input Layer 後，並比較結果"
   ]
  },
  {
   "cell_type": "code",
   "execution_count": 1,
   "metadata": {},
   "outputs": [],
   "source": [
    "import os\n",
    "import tensorflow.keras\n",
    "import itertools\n",
    "# Disable GPU\n",
    "os.environ[\"CUDA_VISIBLE_DEVICES\"] = \"0,1\""
   ]
  },
  {
   "cell_type": "code",
   "execution_count": 4,
   "metadata": {},
   "outputs": [],
   "source": [
    "train, test = tensorflow.keras.datasets.cifar10.load_data()"
   ]
  },
  {
   "cell_type": "code",
   "execution_count": 5,
   "metadata": {},
   "outputs": [],
   "source": [
    "## 資料前處理\n",
    "def preproc_x(x, flatten=True):\n",
    "    x = x / 255.\n",
    "    if flatten:\n",
    "        x = x.reshape((len(x), -1))\n",
    "    return x\n",
    "\n",
    "def preproc_y(y, num_classes=10):\n",
    "    if y.shape[-1] == 1:\n",
    "        y = tensorflow.keras.utils.to_categorical(y, num_classes)\n",
    "    return y    "
   ]
  },
  {
   "cell_type": "code",
   "execution_count": 6,
   "metadata": {},
   "outputs": [],
   "source": [
    "x_train, y_train = train\n",
    "x_test, y_test = test\n",
    "\n",
    "# Preproc the inputs\n",
    "x_train = preproc_x(x_train)\n",
    "x_test = preproc_x(x_test)\n",
    "\n",
    "# Preprc the outputs\n",
    "y_train = preproc_y(y_train)\n",
    "y_test = preproc_y(y_test)"
   ]
  },
  {
   "cell_type": "code",
   "execution_count": 8,
   "metadata": {},
   "outputs": [],
   "source": [
    "from tensorflow.keras.layers import BatchNormalization\n",
    "\n",
    "\"\"\"\n",
    "建立神經網路，並加入 BN layer\n",
    "\"\"\"\n",
    "def build_mlp(input_shape, output_units=10, num_neurons=[512, 256, 128]):\n",
    "    input_layer = tensorflow.keras.layers.Input(input_shape)\n",
    "    \n",
    "    for i, n_units in enumerate(num_neurons):\n",
    "        if i == 0:\n",
    "            x = tensorflow.keras.layers.Dense(units=n_units, \n",
    "                                   activation=\"relu\", \n",
    "                                   name=\"hidden_layer\"+str(i+1))(input_layer)\n",
    "            x = BatchNormalization()(x)\n",
    "        else:\n",
    "            x = tensorflow.keras.layers.Dense(units=n_units, \n",
    "                                   activation=\"relu\", \n",
    "                                   name=\"hidden_layer\"+str(i+1))(x)\n",
    "            x = BatchNormalization()(x)\n",
    "    \n",
    "    out = tensorflow.keras.layers.Dense(units=output_units, activation=\"softmax\", name=\"output\")(x)\n",
    "    \n",
    "    model = tensorflow.keras.models.Model(inputs=[input_layer], outputs=[out])\n",
    "    return model"
   ]
  },
  {
   "cell_type": "code",
   "execution_count": 9,
   "metadata": {},
   "outputs": [],
   "source": [
    "## 超參數設定\n",
    "LEARNING_RATE = 1e-3\n",
    "EPOCHS = 50\n",
    "BATCH_SIZE = 1024\n",
    "MOMENTUM = 0.95"
   ]
  },
  {
   "cell_type": "code",
   "execution_count": 11,
   "metadata": {
    "scrolled": true
   },
   "outputs": [
    {
     "name": "stdout",
     "output_type": "stream",
     "text": [
      "Model: \"model_1\"\n",
      "_________________________________________________________________\n",
      "Layer (type)                 Output Shape              Param #   \n",
      "=================================================================\n",
      "input_2 (InputLayer)         [(None, 3072)]            0         \n",
      "_________________________________________________________________\n",
      "hidden_layer1 (Dense)        (None, 512)               1573376   \n",
      "_________________________________________________________________\n",
      "batch_normalization_3 (Batch (None, 512)               2048      \n",
      "_________________________________________________________________\n",
      "hidden_layer2 (Dense)        (None, 256)               131328    \n",
      "_________________________________________________________________\n",
      "batch_normalization_4 (Batch (None, 256)               1024      \n",
      "_________________________________________________________________\n",
      "hidden_layer3 (Dense)        (None, 128)               32896     \n",
      "_________________________________________________________________\n",
      "batch_normalization_5 (Batch (None, 128)               512       \n",
      "_________________________________________________________________\n",
      "output (Dense)               (None, 10)                1290      \n",
      "=================================================================\n",
      "Total params: 1,742,474\n",
      "Trainable params: 1,740,682\n",
      "Non-trainable params: 1,792\n",
      "_________________________________________________________________\n",
      "Train on 50000 samples, validate on 10000 samples\n",
      "Epoch 1/50\n",
      "50000/50000 [==============================] - 6s 117us/sample - loss: 2.2314 - accuracy: 0.2662 - val_loss: 2.1249 - val_accuracy: 0.2268\n",
      "Epoch 2/50\n",
      "50000/50000 [==============================] - 4s 78us/sample - loss: 1.7548 - accuracy: 0.3887 - val_loss: 1.9461 - val_accuracy: 0.3257\n",
      "Epoch 3/50\n",
      "50000/50000 [==============================] - 4s 79us/sample - loss: 1.6274 - accuracy: 0.4302 - val_loss: 1.8262 - val_accuracy: 0.3635\n",
      "Epoch 4/50\n",
      "50000/50000 [==============================] - 4s 80us/sample - loss: 1.5526 - accuracy: 0.4574 - val_loss: 1.7145 - val_accuracy: 0.4015\n",
      "Epoch 5/50\n",
      "50000/50000 [==============================] - 4s 82us/sample - loss: 1.4955 - accuracy: 0.4763 - val_loss: 1.6406 - val_accuracy: 0.4254\n",
      "Epoch 6/50\n",
      "50000/50000 [==============================] - 4s 76us/sample - loss: 1.4493 - accuracy: 0.4933 - val_loss: 1.6034 - val_accuracy: 0.4360\n",
      "Epoch 7/50\n",
      "50000/50000 [==============================] - 4s 81us/sample - loss: 1.4094 - accuracy: 0.5087 - val_loss: 1.5478 - val_accuracy: 0.4520\n",
      "Epoch 8/50\n",
      "50000/50000 [==============================] - 4s 78us/sample - loss: 1.3759 - accuracy: 0.5210 - val_loss: 1.5270 - val_accuracy: 0.4616\n",
      "Epoch 9/50\n",
      "50000/50000 [==============================] - 4s 78us/sample - loss: 1.3411 - accuracy: 0.5340 - val_loss: 1.5018 - val_accuracy: 0.4679\n",
      "Epoch 10/50\n",
      "50000/50000 [==============================] - 4s 77us/sample - loss: 1.3103 - accuracy: 0.5445 - val_loss: 1.4876 - val_accuracy: 0.4729\n",
      "Epoch 11/50\n",
      "50000/50000 [==============================] - 4s 82us/sample - loss: 1.2819 - accuracy: 0.5545 - val_loss: 1.4892 - val_accuracy: 0.4752\n",
      "Epoch 12/50\n",
      "50000/50000 [==============================] - 4s 81us/sample - loss: 1.2562 - accuracy: 0.5652 - val_loss: 1.4792 - val_accuracy: 0.4803\n",
      "Epoch 13/50\n",
      "50000/50000 [==============================] - 4s 81us/sample - loss: 1.2308 - accuracy: 0.5742 - val_loss: 1.4681 - val_accuracy: 0.4861\n",
      "Epoch 14/50\n",
      "50000/50000 [==============================] - 4s 83us/sample - loss: 1.2049 - accuracy: 0.5848 - val_loss: 1.4676 - val_accuracy: 0.4868\n",
      "Epoch 15/50\n",
      "50000/50000 [==============================] - 4s 79us/sample - loss: 1.1808 - accuracy: 0.5929 - val_loss: 1.4790 - val_accuracy: 0.4830\n",
      "Epoch 16/50\n",
      "50000/50000 [==============================] - 4s 83us/sample - loss: 1.1553 - accuracy: 0.6028 - val_loss: 1.4617 - val_accuracy: 0.4873\n",
      "Epoch 17/50\n",
      "50000/50000 [==============================] - 4s 82us/sample - loss: 1.1323 - accuracy: 0.6112 - val_loss: 1.4482 - val_accuracy: 0.4900\n",
      "Epoch 18/50\n",
      "50000/50000 [==============================] - 4s 84us/sample - loss: 1.1120 - accuracy: 0.6194 - val_loss: 1.4500 - val_accuracy: 0.4904\n",
      "Epoch 19/50\n",
      "50000/50000 [==============================] - 4s 75us/sample - loss: 1.0893 - accuracy: 0.6268 - val_loss: 1.4564 - val_accuracy: 0.4932\n",
      "Epoch 20/50\n",
      "50000/50000 [==============================] - 4s 75us/sample - loss: 1.0663 - accuracy: 0.6353 - val_loss: 1.4592 - val_accuracy: 0.4963\n",
      "Epoch 21/50\n",
      "50000/50000 [==============================] - 4s 76us/sample - loss: 1.0459 - accuracy: 0.6454 - val_loss: 1.4637 - val_accuracy: 0.4928\n",
      "Epoch 22/50\n",
      "50000/50000 [==============================] - 4s 75us/sample - loss: 1.0258 - accuracy: 0.6541 - val_loss: 1.4606 - val_accuracy: 0.4941\n",
      "Epoch 23/50\n",
      "50000/50000 [==============================] - 4s 76us/sample - loss: 1.0031 - accuracy: 0.6610 - val_loss: 1.4588 - val_accuracy: 0.4950\n",
      "Epoch 24/50\n",
      "50000/50000 [==============================] - 4s 77us/sample - loss: 0.9821 - accuracy: 0.6700 - val_loss: 1.4634 - val_accuracy: 0.4935\n",
      "Epoch 25/50\n",
      "50000/50000 [==============================] - 4s 76us/sample - loss: 0.9635 - accuracy: 0.6769 - val_loss: 1.4676 - val_accuracy: 0.4967\n",
      "Epoch 26/50\n",
      "50000/50000 [==============================] - 4s 87us/sample - loss: 0.9426 - accuracy: 0.6834 - val_loss: 1.4772 - val_accuracy: 0.4890\n",
      "Epoch 27/50\n",
      "50000/50000 [==============================] - 4s 80us/sample - loss: 0.9227 - accuracy: 0.6916 - val_loss: 1.4648 - val_accuracy: 0.4925\n",
      "Epoch 28/50\n",
      "50000/50000 [==============================] - 4s 81us/sample - loss: 0.9019 - accuracy: 0.7010 - val_loss: 1.4794 - val_accuracy: 0.4938\n",
      "Epoch 29/50\n",
      "50000/50000 [==============================] - 4s 77us/sample - loss: 0.8811 - accuracy: 0.7082 - val_loss: 1.4855 - val_accuracy: 0.4926\n",
      "Epoch 30/50\n",
      "50000/50000 [==============================] - 4s 78us/sample - loss: 0.8631 - accuracy: 0.7157 - val_loss: 1.4886 - val_accuracy: 0.4920\n",
      "Epoch 31/50\n",
      "50000/50000 [==============================] - 4s 77us/sample - loss: 0.8437 - accuracy: 0.7228 - val_loss: 1.4861 - val_accuracy: 0.4948\n",
      "Epoch 32/50\n",
      "50000/50000 [==============================] - 4s 78us/sample - loss: 0.8250 - accuracy: 0.7310 - val_loss: 1.4971 - val_accuracy: 0.4950\n",
      "Epoch 33/50\n",
      "50000/50000 [==============================] - 4s 78us/sample - loss: 0.8044 - accuracy: 0.7381 - val_loss: 1.4998 - val_accuracy: 0.4954\n",
      "Epoch 34/50\n",
      "50000/50000 [==============================] - 4s 80us/sample - loss: 0.7846 - accuracy: 0.7468 - val_loss: 1.5089 - val_accuracy: 0.4971\n",
      "Epoch 35/50\n",
      "50000/50000 [==============================] - 4s 82us/sample - loss: 0.7681 - accuracy: 0.7532 - val_loss: 1.5330 - val_accuracy: 0.4906\n",
      "Epoch 36/50\n",
      "50000/50000 [==============================] - 4s 80us/sample - loss: 0.7473 - accuracy: 0.7618 - val_loss: 1.5280 - val_accuracy: 0.4954\n",
      "Epoch 37/50\n",
      "50000/50000 [==============================] - 4s 79us/sample - loss: 0.7295 - accuracy: 0.7688 - val_loss: 1.5414 - val_accuracy: 0.4938\n",
      "Epoch 38/50\n",
      "50000/50000 [==============================] - 4s 81us/sample - loss: 0.7085 - accuracy: 0.7770 - val_loss: 1.5496 - val_accuracy: 0.4923\n",
      "Epoch 39/50\n",
      "50000/50000 [==============================] - 4s 80us/sample - loss: 0.6926 - accuracy: 0.7815 - val_loss: 1.5613 - val_accuracy: 0.4912\n",
      "Epoch 40/50\n",
      "50000/50000 [==============================] - 4s 79us/sample - loss: 0.6759 - accuracy: 0.7891 - val_loss: 1.5675 - val_accuracy: 0.4919\n",
      "Epoch 41/50\n",
      "50000/50000 [==============================] - 4s 81us/sample - loss: 0.6551 - accuracy: 0.7977 - val_loss: 1.5698 - val_accuracy: 0.4926\n",
      "Epoch 42/50\n",
      "50000/50000 [==============================] - 4s 80us/sample - loss: 0.6377 - accuracy: 0.8044 - val_loss: 1.6037 - val_accuracy: 0.4846\n",
      "Epoch 43/50\n",
      "50000/50000 [==============================] - 4s 80us/sample - loss: 0.6207 - accuracy: 0.8119 - val_loss: 1.6099 - val_accuracy: 0.4872\n",
      "Epoch 44/50\n",
      "50000/50000 [==============================] - 4s 81us/sample - loss: 0.5996 - accuracy: 0.8191 - val_loss: 1.6181 - val_accuracy: 0.4918\n",
      "Epoch 45/50\n",
      "50000/50000 [==============================] - 4s 81us/sample - loss: 0.5854 - accuracy: 0.8242 - val_loss: 1.6264 - val_accuracy: 0.4891\n"
     ]
    },
    {
     "name": "stdout",
     "output_type": "stream",
     "text": [
      "Epoch 46/50\n",
      "50000/50000 [==============================] - 4s 82us/sample - loss: 0.5649 - accuracy: 0.8337 - val_loss: 1.6305 - val_accuracy: 0.4919\n",
      "Epoch 47/50\n",
      "50000/50000 [==============================] - 4s 83us/sample - loss: 0.5488 - accuracy: 0.8388 - val_loss: 1.6513 - val_accuracy: 0.4909\n",
      "Epoch 48/50\n",
      "50000/50000 [==============================] - 4s 83us/sample - loss: 0.5317 - accuracy: 0.8457 - val_loss: 1.6628 - val_accuracy: 0.4888\n",
      "Epoch 49/50\n",
      "50000/50000 [==============================] - 4s 86us/sample - loss: 0.5158 - accuracy: 0.8527 - val_loss: 1.6993 - val_accuracy: 0.4869\n",
      "Epoch 50/50\n",
      "50000/50000 [==============================] - 4s 83us/sample - loss: 0.5007 - accuracy: 0.8586 - val_loss: 1.6850 - val_accuracy: 0.4911\n"
     ]
    }
   ],
   "source": [
    "model = build_mlp(input_shape=x_train.shape[1:])\n",
    "model.summary()\n",
    "optimizer = tensorflow.keras.optimizers.SGD(lr=LEARNING_RATE, nesterov=True, momentum=MOMENTUM)\n",
    "model.compile(loss=\"categorical_crossentropy\", metrics=[\"accuracy\"], optimizer=optimizer)\n",
    "\n",
    "model.fit(x_train, y_train, \n",
    "          epochs=EPOCHS, \n",
    "          batch_size=BATCH_SIZE, \n",
    "          validation_data=(x_test, y_test), \n",
    "          shuffle=True)\n",
    "\n",
    "# Collect results\n",
    "train_loss = model.history.history[\"loss\"]\n",
    "valid_loss = model.history.history[\"val_loss\"]\n",
    "train_acc = model.history.history[\"accuracy\"]\n",
    "valid_acc = model.history.history[\"val_accuracy\"]"
   ]
  },
  {
   "cell_type": "code",
   "execution_count": 12,
   "metadata": {},
   "outputs": [
    {
     "data": {
      "image/png": "[encoded data removed]",
      "text/plain": [
       "<Figure size 432x288 with 1 Axes>"
      ]
     },
     "metadata": {
      "needs_background": "light"
     },
     "output_type": "display_data"
    },
    {
     "data": {
      "image/png": "[encoded data removed]",
      "text/plain": [
       "<Figure size 432x288 with 1 Axes>"
      ]
     },
     "metadata": {
      "needs_background": "light"
     },
     "output_type": "display_data"
    }
   ],
   "source": [
    "import matplotlib.pyplot as plt\n",
    "%matplotlib inline\n",
    "\n",
    "plt.plot(range(len(train_loss)), train_loss, label=\"train loss\")\n",
    "plt.plot(range(len(valid_loss)), valid_loss, label=\"valid loss\")\n",
    "plt.legend()\n",
    "plt.title(\"Loss\")\n",
    "plt.show()\n",
    "\n",
    "plt.plot(range(len(train_acc)), train_acc, label=\"train accuracy\")\n",
    "plt.plot(range(len(valid_acc)), valid_acc, label=\"valid accuracy\")\n",
    "plt.legend()\n",
    "plt.title(\"Accuracy\")\n",
    "plt.show()"
   ]
  }
 ],
 "metadata": {
  "kernelspec": {
   "display_name": "Python 3",
   "language": "python",
   "name": "python3"
  },
  "language_info": {
   "codemirror_mode": {
    "name": "ipython",
    "version": 3
   },
   "file_extension": ".py",
   "mimetype": "text/x-python",
   "name": "python",
   "nbconvert_exporter": "python",
   "pygments_lexer": "ipython3",
   "version": "3.7.3"
  }
 },
 "nbformat": 4,
 "nbformat_minor": 2
}
