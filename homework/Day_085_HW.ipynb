{
 "cells": [
  {
   "cell_type": "markdown",
   "metadata": {},
   "source": [
    "## Work\n",
    "1. 試改變 monitor \"Validation Accuracy\" 並比較結果\n",
    "2. 調整 earlystop 的等待次數至 10, 25 並比較結果"
   ]
  },
  {
   "cell_type": "code",
   "execution_count": 1,
   "metadata": {},
   "outputs": [],
   "source": [
    "import os\n",
    "import tensorflow.keras\n",
    "import matplotlib.pyplot as plt\n",
    "%matplotlib inline\n",
    "\n",
    "\n",
    "# Disable GPU\n",
    "os.environ[\"CUDA_VISIBLE_DEVICES\"] = \"0,1\""
   ]
  },
  {
   "cell_type": "code",
   "execution_count": 2,
   "metadata": {},
   "outputs": [],
   "source": [
    "train, test = tensorflow.keras.datasets.cifar10.load_data()"
   ]
  },
  {
   "cell_type": "code",
   "execution_count": 3,
   "metadata": {},
   "outputs": [],
   "source": [
    "## 資料前處理\n",
    "def preproc_x(x, flatten=True):\n",
    "    x = x / 255.\n",
    "    if flatten:\n",
    "        x = x.reshape((len(x), -1))\n",
    "    return x\n",
    "\n",
    "def preproc_y(y, num_classes=10):\n",
    "    if y.shape[-1] == 1:\n",
    "        y = tensorflow.keras.utils.to_categorical(y, num_classes)\n",
    "    return y    "
   ]
  },
  {
   "cell_type": "code",
   "execution_count": 4,
   "metadata": {},
   "outputs": [],
   "source": [
    "x_train, y_train = train\n",
    "x_test, y_test = test\n",
    "\n",
    "# Preproc the inputs\n",
    "x_train = preproc_x(x_train)\n",
    "x_test = preproc_x(x_test)\n",
    "\n",
    "# Preprc the outputs\n",
    "y_train = preproc_y(y_train)\n",
    "y_test = preproc_y(y_test)"
   ]
  },
  {
   "cell_type": "code",
   "execution_count": 5,
   "metadata": {},
   "outputs": [],
   "source": [
    "from tensorflow.keras.layers import BatchNormalization\n",
    "\n",
    "\"\"\"\n",
    "建立神經網路，並加入 BN layer\n",
    "\"\"\"\n",
    "def build_mlp(input_shape, output_units=10, num_neurons=[512, 256, 128]):\n",
    "    input_layer = tensorflow.keras.layers.Input(input_shape)\n",
    "    \n",
    "    for i, n_units in enumerate(num_neurons):\n",
    "        if i == 0:\n",
    "            x = tensorflow.keras.layers.Dense(units=n_units, \n",
    "                                   activation=\"relu\", \n",
    "                                   name=\"hidden_layer\"+str(i+1))(input_layer)\n",
    "            x = BatchNormalization()(x)\n",
    "        else:\n",
    "            x = tensorflow.keras.layers.Dense(units=n_units, \n",
    "                                   activation=\"relu\", \n",
    "                                   name=\"hidden_layer\"+str(i+1))(x)\n",
    "            x = BatchNormalization()(x)\n",
    "    \n",
    "    out = tensorflow.keras.layers.Dense(units=output_units, activation=\"softmax\", name=\"output\")(x)\n",
    "    \n",
    "    model = tensorflow.keras.models.Model(inputs=[input_layer], outputs=[out])\n",
    "    return model"
   ]
  },
  {
   "cell_type": "code",
   "execution_count": 6,
   "metadata": {},
   "outputs": [],
   "source": [
    "## 超參數設定\n",
    "LEARNING_RATE = 1e-3\n",
    "EPOCHS = 50\n",
    "BATCH_SIZE = 1024\n",
    "MOMENTUM = 0.95"
   ]
  },
  {
   "cell_type": "code",
   "execution_count": 7,
   "metadata": {},
   "outputs": [
    {
     "name": "stdout",
     "output_type": "stream",
     "text": [
      "Model: \"model\"\n",
      "_________________________________________________________________\n",
      "Layer (type)                 Output Shape              Param #   \n",
      "=================================================================\n",
      "input_1 (InputLayer)         [(None, 3072)]            0         \n",
      "_________________________________________________________________\n",
      "hidden_layer1 (Dense)        (None, 512)               1573376   \n",
      "_________________________________________________________________\n",
      "batch_normalization (BatchNo (None, 512)               2048      \n",
      "_________________________________________________________________\n",
      "hidden_layer2 (Dense)        (None, 256)               131328    \n",
      "_________________________________________________________________\n",
      "batch_normalization_1 (Batch (None, 256)               1024      \n",
      "_________________________________________________________________\n",
      "hidden_layer3 (Dense)        (None, 128)               32896     \n",
      "_________________________________________________________________\n",
      "batch_normalization_2 (Batch (None, 128)               512       \n",
      "_________________________________________________________________\n",
      "output (Dense)               (None, 10)                1290      \n",
      "=================================================================\n",
      "Total params: 1,742,474\n",
      "Trainable params: 1,740,682\n",
      "Non-trainable params: 1,792\n",
      "_________________________________________________________________\n",
      "Train on 50000 samples, validate on 10000 samples\n",
      "Epoch 1/50\n",
      "50000/50000 [==============================] - 6s 110us/sample - loss: 2.2079 - accuracy: 0.2712 - val_loss: 2.1328 - val_accuracy: 0.1770\n",
      "Epoch 2/50\n",
      "50000/50000 [==============================] - 4s 82us/sample - loss: 1.7414 - accuracy: 0.3935 - val_loss: 1.9553 - val_accuracy: 0.3127\n",
      "Epoch 3/50\n",
      "50000/50000 [==============================] - 4s 81us/sample - loss: 1.6189 - accuracy: 0.4329 - val_loss: 1.8362 - val_accuracy: 0.3737\n",
      "Epoch 4/50\n",
      "50000/50000 [==============================] - 4s 82us/sample - loss: 1.5471 - accuracy: 0.4574 - val_loss: 1.7114 - val_accuracy: 0.4082\n",
      "Epoch 5/50\n",
      "50000/50000 [==============================] - 4s 78us/sample - loss: 1.4921 - accuracy: 0.4775 - val_loss: 1.6370 - val_accuracy: 0.4312\n",
      "Epoch 6/50\n",
      "50000/50000 [==============================] - 4s 75us/sample - loss: 1.4474 - accuracy: 0.4946 - val_loss: 1.5871 - val_accuracy: 0.4466\n",
      "Epoch 7/50\n",
      "50000/50000 [==============================] - 4s 76us/sample - loss: 1.4089 - accuracy: 0.5078 - val_loss: 1.5473 - val_accuracy: 0.4516\n",
      "Epoch 8/50\n",
      "50000/50000 [==============================] - 4s 77us/sample - loss: 1.3748 - accuracy: 0.5213 - val_loss: 1.5183 - val_accuracy: 0.4697\n",
      "Epoch 9/50\n",
      "50000/50000 [==============================] - 4s 78us/sample - loss: 1.3423 - accuracy: 0.5311 - val_loss: 1.4988 - val_accuracy: 0.4676\n",
      "Epoch 10/50\n",
      "50000/50000 [==============================] - 4s 78us/sample - loss: 1.3098 - accuracy: 0.5432 - val_loss: 1.4868 - val_accuracy: 0.4760\n",
      "Epoch 11/50\n",
      "50000/50000 [==============================] - 4s 83us/sample - loss: 1.2834 - accuracy: 0.5538 - val_loss: 1.4743 - val_accuracy: 0.4777\n",
      "Epoch 12/50\n",
      "50000/50000 [==============================] - 4s 77us/sample - loss: 1.2566 - accuracy: 0.5624 - val_loss: 1.4700 - val_accuracy: 0.4803\n",
      "Epoch 13/50\n",
      "50000/50000 [==============================] - 4s 78us/sample - loss: 1.2316 - accuracy: 0.5716 - val_loss: 1.4666 - val_accuracy: 0.4831\n",
      "Epoch 14/50\n",
      "50000/50000 [==============================] - 4s 78us/sample - loss: 1.2078 - accuracy: 0.5812 - val_loss: 1.4643 - val_accuracy: 0.4817\n",
      "Epoch 15/50\n",
      "50000/50000 [==============================] - 4s 79us/sample - loss: 1.1826 - accuracy: 0.5897 - val_loss: 1.4639 - val_accuracy: 0.4826\n",
      "Epoch 16/50\n",
      "50000/50000 [==============================] - 4s 78us/sample - loss: 1.1612 - accuracy: 0.5989 - val_loss: 1.4513 - val_accuracy: 0.4852\n",
      "Epoch 17/50\n",
      "50000/50000 [==============================] - 4s 79us/sample - loss: 1.1370 - accuracy: 0.6068 - val_loss: 1.4565 - val_accuracy: 0.4874\n",
      "Epoch 18/50\n",
      "50000/50000 [==============================] - 4s 79us/sample - loss: 1.1169 - accuracy: 0.6146 - val_loss: 1.4480 - val_accuracy: 0.4920\n",
      "Epoch 19/50\n",
      "50000/50000 [==============================] - 4s 79us/sample - loss: 1.0924 - accuracy: 0.6254 - val_loss: 1.4473 - val_accuracy: 0.4905\n",
      "Epoch 20/50\n",
      "50000/50000 [==============================] - 4s 80us/sample - loss: 1.0703 - accuracy: 0.6330 - val_loss: 1.4549 - val_accuracy: 0.4857\n",
      "Epoch 21/50\n",
      "50000/50000 [==============================] - 4s 79us/sample - loss: 1.0482 - accuracy: 0.6431 - val_loss: 1.4653 - val_accuracy: 0.4914\n",
      "Epoch 22/50\n",
      "50000/50000 [==============================] - 4s 80us/sample - loss: 1.0291 - accuracy: 0.6492 - val_loss: 1.4437 - val_accuracy: 0.4966\n",
      "Epoch 23/50\n",
      "50000/50000 [==============================] - 4s 81us/sample - loss: 1.0072 - accuracy: 0.6577 - val_loss: 1.4524 - val_accuracy: 0.4904\n",
      "Epoch 24/50\n",
      "50000/50000 [==============================] - 4s 80us/sample - loss: 0.9854 - accuracy: 0.6674 - val_loss: 1.4517 - val_accuracy: 0.4965\n",
      "Epoch 25/50\n",
      "50000/50000 [==============================] - 4s 82us/sample - loss: 0.9668 - accuracy: 0.6741 - val_loss: 1.4527 - val_accuracy: 0.4981\n",
      "Epoch 26/50\n",
      "50000/50000 [==============================] - 4s 81us/sample - loss: 0.9489 - accuracy: 0.6819 - val_loss: 1.4648 - val_accuracy: 0.4899\n",
      "Epoch 27/50\n",
      "50000/50000 [==============================] - 4s 81us/sample - loss: 0.9285 - accuracy: 0.6889 - val_loss: 1.4553 - val_accuracy: 0.4957\n",
      "Epoch 00027: early stopping\n"
     ]
    },
    {
     "ename": "KeyError",
     "evalue": "'accuarcy'",
     "output_type": "error",
     "traceback": [
      "\u001b[1;31m---------------------------------------------------------------------------\u001b[0m",
      "\u001b[1;31mKeyError\u001b[0m                                  Traceback (most recent call last)",
      "\u001b[1;32m<ipython-input-7-3b4e89cb234e>\u001b[0m in \u001b[0;36m<module>\u001b[1;34m\u001b[0m\n\u001b[0;32m     30\u001b[0m \u001b[0mtrain_loss\u001b[0m \u001b[1;33m=\u001b[0m \u001b[0mmodel\u001b[0m\u001b[1;33m.\u001b[0m\u001b[0mhistory\u001b[0m\u001b[1;33m.\u001b[0m\u001b[0mhistory\u001b[0m\u001b[1;33m[\u001b[0m\u001b[1;34m\"loss\"\u001b[0m\u001b[1;33m]\u001b[0m\u001b[1;33m\u001b[0m\u001b[1;33m\u001b[0m\u001b[0m\n\u001b[0;32m     31\u001b[0m \u001b[0mvalid_loss\u001b[0m \u001b[1;33m=\u001b[0m \u001b[0mmodel\u001b[0m\u001b[1;33m.\u001b[0m\u001b[0mhistory\u001b[0m\u001b[1;33m.\u001b[0m\u001b[0mhistory\u001b[0m\u001b[1;33m[\u001b[0m\u001b[1;34m\"val_loss\"\u001b[0m\u001b[1;33m]\u001b[0m\u001b[1;33m\u001b[0m\u001b[1;33m\u001b[0m\u001b[0m\n\u001b[1;32m---> 32\u001b[1;33m \u001b[0mtrain_acc\u001b[0m \u001b[1;33m=\u001b[0m \u001b[0mmodel\u001b[0m\u001b[1;33m.\u001b[0m\u001b[0mhistory\u001b[0m\u001b[1;33m.\u001b[0m\u001b[0mhistory\u001b[0m\u001b[1;33m[\u001b[0m\u001b[1;34m\"accuarcy\"\u001b[0m\u001b[1;33m]\u001b[0m\u001b[1;33m\u001b[0m\u001b[1;33m\u001b[0m\u001b[0m\n\u001b[0m\u001b[0;32m     33\u001b[0m \u001b[0mvalid_acc\u001b[0m \u001b[1;33m=\u001b[0m \u001b[0mmodel\u001b[0m\u001b[1;33m.\u001b[0m\u001b[0mhistory\u001b[0m\u001b[1;33m.\u001b[0m\u001b[0mhistory\u001b[0m\u001b[1;33m[\u001b[0m\u001b[1;34m\"val_accuarcy\"\u001b[0m\u001b[1;33m]\u001b[0m\u001b[1;33m\u001b[0m\u001b[1;33m\u001b[0m\u001b[0m\n",
      "\u001b[1;31mKeyError\u001b[0m: 'accuarcy'"
     ]
    }
   ],
   "source": [
    "# 載入 Callbacks\n",
    "\"\"\"Code Here\n",
    "設定 callbacks: Earlystop\n",
    "\"\"\"\n",
    "from tensorflow.keras.callbacks import EarlyStopping\n",
    "\n",
    "earlystop = EarlyStopping(monitor=\"val_loss\", \n",
    "                          patience=5, \n",
    "                          verbose=1\n",
    "                          )\n",
    "\n",
    "results = {}\n",
    "\"\"\"Code Here\n",
    "撰寫你的訓練流程並將結果用 dictionary 紀錄\n",
    "\"\"\"\n",
    "model = build_mlp(input_shape=x_train.shape[1:])\n",
    "model.summary()\n",
    "optimizer = tensorflow.keras.optimizers.SGD(lr=LEARNING_RATE, nesterov=True, momentum=MOMENTUM)\n",
    "model.compile(loss=\"categorical_crossentropy\", metrics=[\"accuracy\"], optimizer=optimizer)\n",
    "\n",
    "model.fit(x_train, y_train, \n",
    "          epochs=EPOCHS, \n",
    "          batch_size=BATCH_SIZE, \n",
    "          validation_data=(x_test, y_test), \n",
    "          shuffle=True,\n",
    "          callbacks=[earlystop]\n",
    "         )\n",
    "\n"
   ]
  },
  {
   "cell_type": "code",
   "execution_count": 8,
   "metadata": {},
   "outputs": [],
   "source": [
    "# Collect results\n",
    "train_loss = model.history.history[\"loss\"]\n",
    "valid_loss = model.history.history[\"val_loss\"]\n",
    "train_acc = model.history.history[\"accuracy\"]\n",
    "valid_acc = model.history.history[\"val_accuracy\"]"
   ]
  },
  {
   "cell_type": "code",
   "execution_count": 9,
   "metadata": {},
   "outputs": [
    {
     "data": {
      "image/png": "[encoded data removed]",
      "text/plain": [
       "<Figure size 432x288 with 1 Axes>"
      ]
     },
     "metadata": {
      "needs_background": "light"
     },
     "output_type": "display_data"
    },
    {
     "data": {
      "image/png": "[encoded data removed]",
      "text/plain": [
       "<Figure size 432x288 with 1 Axes>"
      ]
     },
     "metadata": {
      "needs_background": "light"
     },
     "output_type": "display_data"
    }
   ],
   "source": [
    "import matplotlib.pyplot as plt\n",
    "%matplotlib inline\n",
    "\n",
    "plt.plot(range(len(train_loss)), train_loss, label=\"train loss\")\n",
    "plt.plot(range(len(valid_loss)), valid_loss, label=\"valid loss\")\n",
    "plt.legend()\n",
    "plt.title(\"Loss\")\n",
    "plt.show()\n",
    "\n",
    "plt.plot(range(len(train_acc)), train_acc, label=\"train accuracy\")\n",
    "plt.plot(range(len(valid_acc)), valid_acc, label=\"valid accuracy\")\n",
    "plt.legend()\n",
    "plt.title(\"Accuracy\")\n",
    "plt.show()"
   ]
  }
 ],
 "metadata": {
  "kernelspec": {
   "display_name": "Python 3",
   "language": "python",
   "name": "python3"
  },
  "language_info": {
   "codemirror_mode": {
    "name": "ipython",
    "version": 3
   },
   "file_extension": ".py",
   "mimetype": "text/x-python",
   "name": "python",
   "nbconvert_exporter": "python",
   "pygments_lexer": "ipython3",
   "version": "3.7.3"
  }
 },
 "nbformat": 4,
 "nbformat_minor": 2
}
